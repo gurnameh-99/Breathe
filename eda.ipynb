{
 "cells": [
  {
   "cell_type": "code",
   "execution_count": 1,
   "metadata": {},
   "outputs": [
    {
     "data": {
      "text/plain": [
       "[PhysicalDevice(name='/physical_device:GPU:0', device_type='GPU')]"
      ]
     },
     "execution_count": 1,
     "metadata": {},
     "output_type": "execute_result"
    }
   ],
   "source": [
    "import tensorflow as tf\n",
    "tf.config.list_physical_devices('GPU')"
   ]
  },
  {
   "cell_type": "code",
   "execution_count": 2,
   "metadata": {},
   "outputs": [],
   "source": [
    "import numpy as np # linear algebra\n",
    "import pandas as pd # data processing, CSV file I/O (e.g. pd.read_csv)\n",
    "import tensorflow as tf\n",
    "from tensorflow import keras\n",
    "import matplotlib.pyplot as plt\n",
    "import seaborn as sns\n",
    "import librosa.display\n",
    "import os"
   ]
  },
  {
   "cell_type": "code",
   "execution_count": 3,
   "metadata": {},
   "outputs": [
    {
     "data": {
      "text/html": [
       "<div>\n",
       "<style scoped>\n",
       "    .dataframe tbody tr th:only-of-type {\n",
       "        vertical-align: middle;\n",
       "    }\n",
       "\n",
       "    .dataframe tbody tr th {\n",
       "        vertical-align: top;\n",
       "    }\n",
       "\n",
       "    .dataframe thead th {\n",
       "        text-align: right;\n",
       "    }\n",
       "</style>\n",
       "<table border=\"1\" class=\"dataframe\">\n",
       "  <thead>\n",
       "    <tr style=\"text-align: right;\">\n",
       "      <th></th>\n",
       "      <th>pid</th>\n",
       "      <th>disease</th>\n",
       "    </tr>\n",
       "  </thead>\n",
       "  <tbody>\n",
       "    <tr>\n",
       "      <th>0</th>\n",
       "      <td>101</td>\n",
       "      <td>URTI</td>\n",
       "    </tr>\n",
       "    <tr>\n",
       "      <th>1</th>\n",
       "      <td>102</td>\n",
       "      <td>Healthy</td>\n",
       "    </tr>\n",
       "    <tr>\n",
       "      <th>2</th>\n",
       "      <td>103</td>\n",
       "      <td>Asthma</td>\n",
       "    </tr>\n",
       "    <tr>\n",
       "      <th>3</th>\n",
       "      <td>104</td>\n",
       "      <td>COPD</td>\n",
       "    </tr>\n",
       "    <tr>\n",
       "      <th>4</th>\n",
       "      <td>105</td>\n",
       "      <td>URTI</td>\n",
       "    </tr>\n",
       "  </tbody>\n",
       "</table>\n",
       "</div>"
      ],
      "text/plain": [
       "   pid  disease\n",
       "0  101     URTI\n",
       "1  102  Healthy\n",
       "2  103   Asthma\n",
       "3  104     COPD\n",
       "4  105     URTI"
      ]
     },
     "execution_count": 3,
     "metadata": {},
     "output_type": "execute_result"
    }
   ],
   "source": [
    "patient_diag = pd.read_csv('./Respiratory_Sound_Database/patient_diagnosis.csv', names=['pid', 'disease'])\n",
    "patient_diag.head()"
   ]
  },
  {
   "cell_type": "code",
   "execution_count": 4,
   "metadata": {},
   "outputs": [],
   "source": [
    "def getFilenameInfo(file):\n",
    "    return file.split('_')"
   ]
  },
  {
   "cell_type": "code",
   "execution_count": 5,
   "metadata": {},
   "outputs": [
    {
     "data": {
      "text/plain": [
       "['126_1b1_Al_sc_Meditron',\n",
       " '148_1b1_Al_sc_Meditron',\n",
       " '130_1p3_Pl_mc_AKGC417L',\n",
       " '205_3b4_Ar_mc_AKGC417L',\n",
       " '174_1p2_Pr_mc_AKGC417L']"
      ]
     },
     "execution_count": 5,
     "metadata": {},
     "output_type": "execute_result"
    }
   ],
   "source": [
    "path='./Respiratory_Sound_Database/audio_and_txt_files/'\n",
    "files=[s.split('.')[0] for s in os.listdir(path) if '.txt' in s]\n",
    "files[:5]"
   ]
  },
  {
   "cell_type": "code",
   "execution_count": 6,
   "metadata": {},
   "outputs": [
    {
     "data": {
      "text/html": [
       "<div>\n",
       "<style scoped>\n",
       "    .dataframe tbody tr th:only-of-type {\n",
       "        vertical-align: middle;\n",
       "    }\n",
       "\n",
       "    .dataframe tbody tr th {\n",
       "        vertical-align: top;\n",
       "    }\n",
       "\n",
       "    .dataframe thead th {\n",
       "        text-align: right;\n",
       "    }\n",
       "</style>\n",
       "<table border=\"1\" class=\"dataframe\">\n",
       "  <thead>\n",
       "    <tr style=\"text-align: right;\">\n",
       "      <th></th>\n",
       "      <th>start</th>\n",
       "      <th>end</th>\n",
       "      <th>crackles</th>\n",
       "      <th>weezels</th>\n",
       "      <th>pid</th>\n",
       "      <th>mode</th>\n",
       "      <th>filename</th>\n",
       "    </tr>\n",
       "  </thead>\n",
       "  <tbody>\n",
       "    <tr>\n",
       "      <th>0</th>\n",
       "      <td>0.022</td>\n",
       "      <td>0.422</td>\n",
       "      <td>0</td>\n",
       "      <td>0</td>\n",
       "      <td>126</td>\n",
       "      <td>sc</td>\n",
       "      <td>126_1b1_Al_sc_Meditron</td>\n",
       "    </tr>\n",
       "    <tr>\n",
       "      <th>1</th>\n",
       "      <td>0.422</td>\n",
       "      <td>2.136</td>\n",
       "      <td>0</td>\n",
       "      <td>0</td>\n",
       "      <td>126</td>\n",
       "      <td>sc</td>\n",
       "      <td>126_1b1_Al_sc_Meditron</td>\n",
       "    </tr>\n",
       "    <tr>\n",
       "      <th>2</th>\n",
       "      <td>2.136</td>\n",
       "      <td>3.779</td>\n",
       "      <td>0</td>\n",
       "      <td>0</td>\n",
       "      <td>126</td>\n",
       "      <td>sc</td>\n",
       "      <td>126_1b1_Al_sc_Meditron</td>\n",
       "    </tr>\n",
       "    <tr>\n",
       "      <th>3</th>\n",
       "      <td>3.779</td>\n",
       "      <td>5.836</td>\n",
       "      <td>0</td>\n",
       "      <td>0</td>\n",
       "      <td>126</td>\n",
       "      <td>sc</td>\n",
       "      <td>126_1b1_Al_sc_Meditron</td>\n",
       "    </tr>\n",
       "    <tr>\n",
       "      <th>4</th>\n",
       "      <td>5.836</td>\n",
       "      <td>7.850</td>\n",
       "      <td>0</td>\n",
       "      <td>0</td>\n",
       "      <td>126</td>\n",
       "      <td>sc</td>\n",
       "      <td>126_1b1_Al_sc_Meditron</td>\n",
       "    </tr>\n",
       "  </tbody>\n",
       "</table>\n",
       "</div>"
      ],
      "text/plain": [
       "   start    end  crackles  weezels  pid mode                filename\n",
       "0  0.022  0.422         0        0  126   sc  126_1b1_Al_sc_Meditron\n",
       "1  0.422  2.136         0        0  126   sc  126_1b1_Al_sc_Meditron\n",
       "2  2.136  3.779         0        0  126   sc  126_1b1_Al_sc_Meditron\n",
       "3  3.779  5.836         0        0  126   sc  126_1b1_Al_sc_Meditron\n",
       "4  5.836  7.850         0        0  126   sc  126_1b1_Al_sc_Meditron"
      ]
     },
     "execution_count": 6,
     "metadata": {},
     "output_type": "execute_result"
    }
   ],
   "source": [
    "files_data=[]\n",
    "for file in files:\n",
    "    data=pd.read_csv(path + file + '.txt',sep='\\t',names=['start','end','crackles','weezels'])\n",
    "    name_data=getFilenameInfo(file)\n",
    "    data['pid']=name_data[0]\n",
    "    data['mode']=name_data[-2]\n",
    "    data['filename']=file\n",
    "    files_data.append(data)\n",
    "files_df=pd.concat(files_data)\n",
    "files_df.reset_index()\n",
    "files_df.head()"
   ]
  },
  {
   "cell_type": "code",
   "execution_count": 7,
   "metadata": {},
   "outputs": [
    {
     "data": {
      "text/html": [
       "<div>\n",
       "<style scoped>\n",
       "    .dataframe tbody tr th:only-of-type {\n",
       "        vertical-align: middle;\n",
       "    }\n",
       "\n",
       "    .dataframe tbody tr th {\n",
       "        vertical-align: top;\n",
       "    }\n",
       "\n",
       "    .dataframe thead th {\n",
       "        text-align: right;\n",
       "    }\n",
       "</style>\n",
       "<table border=\"1\" class=\"dataframe\">\n",
       "  <thead>\n",
       "    <tr style=\"text-align: right;\">\n",
       "      <th></th>\n",
       "      <th>start</th>\n",
       "      <th>end</th>\n",
       "      <th>crackles</th>\n",
       "      <th>weezels</th>\n",
       "      <th>pid</th>\n",
       "      <th>mode</th>\n",
       "      <th>filename</th>\n",
       "      <th>disease</th>\n",
       "    </tr>\n",
       "  </thead>\n",
       "  <tbody>\n",
       "    <tr>\n",
       "      <th>0</th>\n",
       "      <td>0.022</td>\n",
       "      <td>0.422</td>\n",
       "      <td>0</td>\n",
       "      <td>0</td>\n",
       "      <td>126</td>\n",
       "      <td>sc</td>\n",
       "      <td>126_1b1_Al_sc_Meditron</td>\n",
       "      <td>Healthy</td>\n",
       "    </tr>\n",
       "    <tr>\n",
       "      <th>1</th>\n",
       "      <td>0.422</td>\n",
       "      <td>2.136</td>\n",
       "      <td>0</td>\n",
       "      <td>0</td>\n",
       "      <td>126</td>\n",
       "      <td>sc</td>\n",
       "      <td>126_1b1_Al_sc_Meditron</td>\n",
       "      <td>Healthy</td>\n",
       "    </tr>\n",
       "    <tr>\n",
       "      <th>2</th>\n",
       "      <td>2.136</td>\n",
       "      <td>3.779</td>\n",
       "      <td>0</td>\n",
       "      <td>0</td>\n",
       "      <td>126</td>\n",
       "      <td>sc</td>\n",
       "      <td>126_1b1_Al_sc_Meditron</td>\n",
       "      <td>Healthy</td>\n",
       "    </tr>\n",
       "    <tr>\n",
       "      <th>3</th>\n",
       "      <td>3.779</td>\n",
       "      <td>5.836</td>\n",
       "      <td>0</td>\n",
       "      <td>0</td>\n",
       "      <td>126</td>\n",
       "      <td>sc</td>\n",
       "      <td>126_1b1_Al_sc_Meditron</td>\n",
       "      <td>Healthy</td>\n",
       "    </tr>\n",
       "    <tr>\n",
       "      <th>4</th>\n",
       "      <td>5.836</td>\n",
       "      <td>7.850</td>\n",
       "      <td>0</td>\n",
       "      <td>0</td>\n",
       "      <td>126</td>\n",
       "      <td>sc</td>\n",
       "      <td>126_1b1_Al_sc_Meditron</td>\n",
       "      <td>Healthy</td>\n",
       "    </tr>\n",
       "  </tbody>\n",
       "</table>\n",
       "</div>"
      ],
      "text/plain": [
       "   start    end  crackles  weezels  pid mode                filename  disease\n",
       "0  0.022  0.422         0        0  126   sc  126_1b1_Al_sc_Meditron  Healthy\n",
       "1  0.422  2.136         0        0  126   sc  126_1b1_Al_sc_Meditron  Healthy\n",
       "2  2.136  3.779         0        0  126   sc  126_1b1_Al_sc_Meditron  Healthy\n",
       "3  3.779  5.836         0        0  126   sc  126_1b1_Al_sc_Meditron  Healthy\n",
       "4  5.836  7.850         0        0  126   sc  126_1b1_Al_sc_Meditron  Healthy"
      ]
     },
     "execution_count": 7,
     "metadata": {},
     "output_type": "execute_result"
    }
   ],
   "source": [
    "patient_diag.pid=patient_diag.pid.astype('int32')\n",
    "files_df.pid=files_df.pid.astype('int32')\n",
    "data=pd.merge(files_df,patient_diag,on='pid')\n",
    "data.head()"
   ]
  },
  {
   "cell_type": "code",
   "execution_count": 9,
   "metadata": {},
   "outputs": [],
   "source": [
    "# os.makedirs('csv_data')\n",
    "data.to_csv('csv_data/data.csv',index=False)"
   ]
  },
  {
   "cell_type": "code",
   "execution_count": 10,
   "metadata": {},
   "outputs": [],
   "source": [
    "def getPureSample(raw_data,start,end,sr=22050):\n",
    "    '''\n",
    "    Takes a numpy array and spilts its using start and end args\n",
    "    \n",
    "    raw_data=numpy array of audio sample\n",
    "    start=time\n",
    "    end=time\n",
    "    sr=sampling_rate\n",
    "    mode=mono/stereo\n",
    "    \n",
    "    '''\n",
    "    max_ind = len(raw_data) \n",
    "    start_ind = min(int(start * sr), max_ind)\n",
    "    end_ind = min(int(end * sr), max_ind)\n",
    "    return raw_data[start_ind: end_ind]"
   ]
  },
  {
   "cell_type": "code",
   "execution_count": 11,
   "metadata": {},
   "outputs": [
    {
     "data": {
      "text/plain": [
       "<AxesSubplot:ylabel='pid'>"
      ]
     },
     "execution_count": 11,
     "metadata": {},
     "output_type": "execute_result"
    },
    {
     "data": {
      "image/png": "[encoded data removed]",
      "text/plain": [
       "<Figure size 432x288 with 1 Axes>"
      ]
     },
     "metadata": {
      "needs_background": "light"
     },
     "output_type": "display_data"
    }
   ],
   "source": [
    "sns.scatterplot(x=(data.end-data.start), y=data.pid, )"
   ]
  },
  {
   "cell_type": "code",
   "execution_count": 12,
   "metadata": {},
   "outputs": [
    {
     "data": {
      "text/plain": [
       "<AxesSubplot:>"
      ]
     },
     "execution_count": 12,
     "metadata": {},
     "output_type": "execute_result"
    },
    {
     "data": {
      "image/png": "[encoded data removed]",
      "text/plain": [
       "<Figure size 432x288 with 1 Axes>"
      ]
     },
     "metadata": {
      "needs_background": "light"
     },
     "output_type": "display_data"
    }
   ],
   "source": [
    "sns.boxplot(y=(data.end-data.start))"
   ]
  },
  {
   "cell_type": "code",
   "execution_count": 14,
   "metadata": {},
   "outputs": [
    {
     "name": "stdout",
     "output_type": "stream",
     "text": [
      "Index -> 0\n",
      "Data->\n",
      " start                        0.022\n",
      "end                          0.422\n",
      "crackles                         0\n",
      "weezels                          0\n",
      "pid                            126\n",
      "mode                            sc\n",
      "filename    126_1b1_Al_sc_Meditron\n",
      "disease                    Healthy\n",
      "Name: 0, dtype: object\n"
     ]
    }
   ],
   "source": [
    "# os.makedirs('processed_audio_files')\n",
    "for index,row in data.iterrows():\n",
    "    print(\"Index ->\",index)\n",
    "    print(\"Data->\\n\",row)\n",
    "    break"
   ]
  },
  {
   "cell_type": "code",
   "execution_count": null,
   "metadata": {},
   "outputs": [],
   "source": [
    "import librosa as lb\n",
    "import soundfile as sf\n",
    "from tqdm import tqdm\n",
    "i,c=0,0\n",
    "for index,row in tqdm(data.iterrows()):\n",
    "    maxLen=6\n",
    "    start=row['start']\n",
    "    end=row['end']\n",
    "    filename=row['filename']\n",
    "    \n",
    "    #If len > maxLen , change it to maxLen\n",
    "    if end-start>maxLen:\n",
    "        end=start+maxLen\n",
    "    \n",
    "    audio_file_loc=path + filename + '.wav'\n",
    "    \n",
    "    if index > 0:\n",
    "        #check if more cycles exits for same patient if so then add i to change filename\n",
    "        if data.iloc[index-1]['filename']==filename:\n",
    "            i+=1\n",
    "        else:\n",
    "            i=0\n",
    "    filename= filename + '_' + str(i) + '.wav'\n",
    "    \n",
    "    save_path='processed_audio_files/' + filename\n",
    "    c+=1\n",
    "    \n",
    "    audioArr,sampleRate=lb.load(audio_file_loc)\n",
    "    pureSample=getPureSample(audioArr,start,end,sampleRate)\n",
    "    \n",
    "    #pad audio if pureSample len < max_len\n",
    "    reqLen=6*sampleRate\n",
    "    padded_data = lb.util.pad_center(pureSample, reqLen)\n",
    "    \n",
    "    sf.write(file=save_path,data=padded_data,samplerate=sampleRate)\n",
    "print('Total Files Processed: ',c)"
   ]
  },
  {
   "cell_type": "code",
   "execution_count": 16,
   "metadata": {},
   "outputs": [
    {
     "data": {
      "text/html": [
       "<div>\n",
       "<style scoped>\n",
       "    .dataframe tbody tr th:only-of-type {\n",
       "        vertical-align: middle;\n",
       "    }\n",
       "\n",
       "    .dataframe tbody tr th {\n",
       "        vertical-align: top;\n",
       "    }\n",
       "\n",
       "    .dataframe thead th {\n",
       "        text-align: right;\n",
       "    }\n",
       "</style>\n",
       "<table border=\"1\" class=\"dataframe\">\n",
       "  <thead>\n",
       "    <tr style=\"text-align: right;\">\n",
       "      <th></th>\n",
       "      <th>pid</th>\n",
       "      <th>disease</th>\n",
       "    </tr>\n",
       "  </thead>\n",
       "  <tbody>\n",
       "    <tr>\n",
       "      <th>0</th>\n",
       "      <td>101</td>\n",
       "      <td>URTI</td>\n",
       "    </tr>\n",
       "    <tr>\n",
       "      <th>1</th>\n",
       "      <td>102</td>\n",
       "      <td>Healthy</td>\n",
       "    </tr>\n",
       "    <tr>\n",
       "      <th>2</th>\n",
       "      <td>103</td>\n",
       "      <td>Asthma</td>\n",
       "    </tr>\n",
       "    <tr>\n",
       "      <th>3</th>\n",
       "      <td>104</td>\n",
       "      <td>COPD</td>\n",
       "    </tr>\n",
       "    <tr>\n",
       "      <th>4</th>\n",
       "      <td>105</td>\n",
       "      <td>URTI</td>\n",
       "    </tr>\n",
       "  </tbody>\n",
       "</table>\n",
       "</div>"
      ],
      "text/plain": [
       "   pid  disease\n",
       "0  101     URTI\n",
       "1  102  Healthy\n",
       "2  103   Asthma\n",
       "3  104     COPD\n",
       "4  105     URTI"
      ]
     },
     "execution_count": 16,
     "metadata": {},
     "output_type": "execute_result"
    }
   ],
   "source": [
    "diagnosis=pd.read_csv('./Respiratory_Sound_Database/patient_diagnosis.csv',names=['pid','disease'])\n",
    "diagnosis.head()"
   ]
  },
  {
   "cell_type": "code",
   "execution_count": 17,
   "metadata": {},
   "outputs": [
    {
     "name": "stderr",
     "output_type": "stream",
     "text": [
      "/home/gurnameh/dev/MLproj/housing_model/env/lib/python3.8/site-packages/seaborn/_decorators.py:36: FutureWarning: Pass the following variable as a keyword arg: x. From version 0.12, the only valid positional argument will be `data`, and passing other arguments without an explicit keyword will result in an error or misinterpretation.\n",
      "  warnings.warn(\n"
     ]
    },
    {
     "data": {
      "text/plain": [
       "(array([0, 1, 2, 3, 4, 5, 6, 7]),\n",
       " [Text(0, 0, 'URTI'),\n",
       "  Text(1, 0, 'Healthy'),\n",
       "  Text(2, 0, 'Asthma'),\n",
       "  Text(3, 0, 'COPD'),\n",
       "  Text(4, 0, 'LRTI'),\n",
       "  Text(5, 0, 'Bronchiectasis'),\n",
       "  Text(6, 0, 'Pneumonia'),\n",
       "  Text(7, 0, 'Bronchiolitis')])"
      ]
     },
     "execution_count": 17,
     "metadata": {},
     "output_type": "execute_result"
    },
    {
     "data": {
      "image/png": "[encoded data removed]",
      "text/plain": [
       "<Figure size 432x288 with 1 Axes>"
      ]
     },
     "metadata": {
      "needs_background": "light"
     },
     "output_type": "display_data"
    }
   ],
   "source": [
    "sns.countplot(diagnosis.disease)\n",
    "plt.xticks(rotation=90)"
   ]
  },
  {
   "cell_type": "code",
   "execution_count": 18,
   "metadata": {},
   "outputs": [],
   "source": [
    "def extractId(filename):\n",
    "    return filename.split('_')[0]"
   ]
  },
  {
   "cell_type": "code",
   "execution_count": 19,
   "metadata": {},
   "outputs": [
    {
     "name": "stderr",
     "output_type": "stream",
     "text": [
      "100%|██████████| 6898/6898 [00:00<00:00, 7946.98it/s]\n"
     ]
    },
    {
     "data": {
      "text/html": [
       "<div>\n",
       "<style scoped>\n",
       "    .dataframe tbody tr th:only-of-type {\n",
       "        vertical-align: middle;\n",
       "    }\n",
       "\n",
       "    .dataframe tbody tr th {\n",
       "        vertical-align: top;\n",
       "    }\n",
       "\n",
       "    .dataframe thead th {\n",
       "        text-align: right;\n",
       "    }\n",
       "</style>\n",
       "<table border=\"1\" class=\"dataframe\">\n",
       "  <thead>\n",
       "    <tr style=\"text-align: right;\">\n",
       "      <th></th>\n",
       "      <th>pid</th>\n",
       "      <th>filename</th>\n",
       "    </tr>\n",
       "  </thead>\n",
       "  <tbody>\n",
       "    <tr>\n",
       "      <th>0</th>\n",
       "      <td>204</td>\n",
       "      <td>204_7p5_Tc_mc_AKGC417L_0.wav</td>\n",
       "    </tr>\n",
       "    <tr>\n",
       "      <th>1</th>\n",
       "      <td>130</td>\n",
       "      <td>130_1p4_Pl_mc_AKGC417L_2.wav</td>\n",
       "    </tr>\n",
       "    <tr>\n",
       "      <th>2</th>\n",
       "      <td>174</td>\n",
       "      <td>174_1p3_Ll_mc_AKGC417L_0.wav</td>\n",
       "    </tr>\n",
       "    <tr>\n",
       "      <th>3</th>\n",
       "      <td>104</td>\n",
       "      <td>104_1b1_Ll_sc_Litt3200_0.wav</td>\n",
       "    </tr>\n",
       "    <tr>\n",
       "      <th>4</th>\n",
       "      <td>201</td>\n",
       "      <td>201_1b2_Ar_sc_Meditron_3.wav</td>\n",
       "    </tr>\n",
       "  </tbody>\n",
       "</table>\n",
       "</div>"
      ],
      "text/plain": [
       "   pid                      filename\n",
       "0  204  204_7p5_Tc_mc_AKGC417L_0.wav\n",
       "1  130  130_1p4_Pl_mc_AKGC417L_2.wav\n",
       "2  174  174_1p3_Ll_mc_AKGC417L_0.wav\n",
       "3  104  104_1b1_Ll_sc_Litt3200_0.wav\n",
       "4  201  201_1b2_Ar_sc_Meditron_3.wav"
      ]
     },
     "execution_count": 19,
     "metadata": {},
     "output_type": "execute_result"
    }
   ],
   "source": [
    "path='./processed_audio_files/'\n",
    "length=len(os.listdir(path))\n",
    "index=range(length)\n",
    "i=0\n",
    "files_df=pd.DataFrame(index=index,columns=['pid','filename'])\n",
    "file_list = os.listdir(path)\n",
    "for f in tqdm(file_list):\n",
    "    files_df.iloc[i]['pid']=extractId(f)\n",
    "    files_df.iloc[i]['filename']=f\n",
    "    i+=1\n",
    "files_df.head()"
   ]
  },
  {
   "cell_type": "code",
   "execution_count": 20,
   "metadata": {},
   "outputs": [
    {
     "data": {
      "text/html": [
       "<div>\n",
       "<style scoped>\n",
       "    .dataframe tbody tr th:only-of-type {\n",
       "        vertical-align: middle;\n",
       "    }\n",
       "\n",
       "    .dataframe tbody tr th {\n",
       "        vertical-align: top;\n",
       "    }\n",
       "\n",
       "    .dataframe thead th {\n",
       "        text-align: right;\n",
       "    }\n",
       "</style>\n",
       "<table border=\"1\" class=\"dataframe\">\n",
       "  <thead>\n",
       "    <tr style=\"text-align: right;\">\n",
       "      <th></th>\n",
       "      <th>pid</th>\n",
       "      <th>filename</th>\n",
       "      <th>disease</th>\n",
       "    </tr>\n",
       "  </thead>\n",
       "  <tbody>\n",
       "    <tr>\n",
       "      <th>0</th>\n",
       "      <td>204</td>\n",
       "      <td>204_7p5_Tc_mc_AKGC417L_0.wav</td>\n",
       "      <td>COPD</td>\n",
       "    </tr>\n",
       "    <tr>\n",
       "      <th>1</th>\n",
       "      <td>204</td>\n",
       "      <td>204_7p5_Pr_mc_AKGC417L_0.wav</td>\n",
       "      <td>COPD</td>\n",
       "    </tr>\n",
       "    <tr>\n",
       "      <th>2</th>\n",
       "      <td>204</td>\n",
       "      <td>204_7p5_Ll_mc_AKGC417L_2.wav</td>\n",
       "      <td>COPD</td>\n",
       "    </tr>\n",
       "    <tr>\n",
       "      <th>3</th>\n",
       "      <td>204</td>\n",
       "      <td>204_7p5_Lr_mc_AKGC417L_6.wav</td>\n",
       "      <td>COPD</td>\n",
       "    </tr>\n",
       "    <tr>\n",
       "      <th>4</th>\n",
       "      <td>204</td>\n",
       "      <td>204_7p5_Ar_mc_AKGC417L_2.wav</td>\n",
       "      <td>COPD</td>\n",
       "    </tr>\n",
       "  </tbody>\n",
       "</table>\n",
       "</div>"
      ],
      "text/plain": [
       "   pid                      filename disease\n",
       "0  204  204_7p5_Tc_mc_AKGC417L_0.wav    COPD\n",
       "1  204  204_7p5_Pr_mc_AKGC417L_0.wav    COPD\n",
       "2  204  204_7p5_Ll_mc_AKGC417L_2.wav    COPD\n",
       "3  204  204_7p5_Lr_mc_AKGC417L_6.wav    COPD\n",
       "4  204  204_7p5_Ar_mc_AKGC417L_2.wav    COPD"
      ]
     },
     "execution_count": 20,
     "metadata": {},
     "output_type": "execute_result"
    }
   ],
   "source": [
    "files_df.pid=files_df.pid.astype('int64') # both pid's must be of same dtype for them to merge\n",
    "data=pd.merge(files_df,diagnosis,on='pid')\n",
    "data.head()"
   ]
  },
  {
   "cell_type": "code",
   "execution_count": 21,
   "metadata": {},
   "outputs": [
    {
     "name": "stderr",
     "output_type": "stream",
     "text": [
      "/home/gurnameh/dev/MLproj/housing_model/env/lib/python3.8/site-packages/seaborn/_decorators.py:36: FutureWarning: Pass the following variable as a keyword arg: x. From version 0.12, the only valid positional argument will be `data`, and passing other arguments without an explicit keyword will result in an error or misinterpretation.\n",
      "  warnings.warn(\n"
     ]
    },
    {
     "data": {
      "text/plain": [
       "(array([0, 1, 2, 3, 4, 5, 6, 7]),\n",
       " [Text(0, 0, 'COPD'),\n",
       "  Text(1, 0, 'Bronchiectasis'),\n",
       "  Text(2, 0, 'URTI'),\n",
       "  Text(3, 0, 'Healthy'),\n",
       "  Text(4, 0, 'Pneumonia'),\n",
       "  Text(5, 0, 'Bronchiolitis'),\n",
       "  Text(6, 0, 'LRTI'),\n",
       "  Text(7, 0, 'Asthma')])"
      ]
     },
     "execution_count": 21,
     "metadata": {},
     "output_type": "execute_result"
    },
    {
     "data": {
      "image/png": "[encoded data removed]",
      "text/plain": [
       "<Figure size 432x288 with 1 Axes>"
      ]
     },
     "metadata": {
      "needs_background": "light"
     },
     "output_type": "display_data"
    }
   ],
   "source": [
    "sns.countplot(data.disease)\n",
    "plt.xticks(rotation=90)"
   ]
  },
  {
   "cell_type": "code",
   "execution_count": 22,
   "metadata": {},
   "outputs": [],
   "source": [
    "from sklearn.model_selection import train_test_split\n",
    "Xtrain,Xval,ytrain,yval=train_test_split(data,data.disease,stratify=data.disease,random_state=42,test_size=0.25)"
   ]
  },
  {
   "cell_type": "code",
   "execution_count": 23,
   "metadata": {},
   "outputs": [
    {
     "data": {
      "text/plain": [
       "COPD              0.832979\n",
       "Healthy           0.046588\n",
       "Pneumonia         0.041369\n",
       "URTI              0.035183\n",
       "Bronchiolitis     0.023197\n",
       "Bronchiectasis    0.015078\n",
       "LRTI              0.004639\n",
       "Asthma            0.000967\n",
       "Name: disease, dtype: float64"
      ]
     },
     "execution_count": 23,
     "metadata": {},
     "output_type": "execute_result"
    }
   ],
   "source": [
    "Xtrain.disease.value_counts()/Xtrain.shape[0]"
   ]
  },
  {
   "cell_type": "code",
   "execution_count": 24,
   "metadata": {},
   "outputs": [
    {
     "data": {
      "text/plain": [
       "COPD              0.833043\n",
       "Healthy           0.046957\n",
       "Pneumonia         0.041159\n",
       "URTI              0.035362\n",
       "Bronchiolitis     0.023188\n",
       "Bronchiectasis    0.015072\n",
       "LRTI              0.004638\n",
       "Asthma            0.000580\n",
       "Name: disease, dtype: float64"
      ]
     },
     "execution_count": 24,
     "metadata": {},
     "output_type": "execute_result"
    }
   ],
   "source": [
    "Xtrain.disease.value_counts()/Xtrain.shape[0]"
   ]
  },
  {
   "cell_type": "code",
   "execution_count": 25,
   "metadata": {},
   "outputs": [
    {
     "data": {
      "text/plain": [
       "[Text(0.5, 1.0, 'MFCC')]"
      ]
     },
     "execution_count": 25,
     "metadata": {},
     "output_type": "execute_result"
    },
    {
     "data": {
      "image/png": "[encoded data removed]",
      "text/plain": [
       "<Figure size 432x288 with 2 Axes>"
      ]
     },
     "metadata": {
      "needs_background": "light"
     },
     "output_type": "display_data"
    }
   ],
   "source": [
    "path='./processed_audio_files/'\n",
    "\n",
    "import librosa.display\n",
    "file=path + Xtrain.iloc[193].filename \n",
    "sound,sample_rate=lb.load(file)\n",
    "mfccs = lb.feature.mfcc(y=sound, sr=sample_rate, n_mfcc=40)\n",
    "fig, ax = plt.subplots()\n",
    "img = librosa.display.specshow(mfccs, x_axis='time', ax=ax)\n",
    "fig.colorbar(img, ax=ax)\n",
    "ax.set(title='MFCC')"
   ]
  },
  {
   "cell_type": "code",
   "execution_count": 26,
   "metadata": {},
   "outputs": [],
   "source": [
    "Xtrain.to_csv('train.csv')\n",
    "Xval.to_csv('val.csv')"
   ]
  },
  {
   "cell_type": "code",
   "execution_count": 27,
   "metadata": {},
   "outputs": [],
   "source": [
    "\n",
    "import numpy as np # linear algebra\n",
    "import pandas as pd # data processing, CSV file I/O (e.g. pd.read_csv)\n",
    "import tensorflow as tf\n",
    "from tensorflow import keras\n",
    "import matplotlib.pyplot as plt\n",
    "import librosa.display as lbd"
   ]
  },
  {
   "cell_type": "code",
   "execution_count": 28,
   "metadata": {},
   "outputs": [
    {
     "data": {
      "text/html": [
       "<div>\n",
       "<style scoped>\n",
       "    .dataframe tbody tr th:only-of-type {\n",
       "        vertical-align: middle;\n",
       "    }\n",
       "\n",
       "    .dataframe tbody tr th {\n",
       "        vertical-align: top;\n",
       "    }\n",
       "\n",
       "    .dataframe thead th {\n",
       "        text-align: right;\n",
       "    }\n",
       "</style>\n",
       "<table border=\"1\" class=\"dataframe\">\n",
       "  <thead>\n",
       "    <tr style=\"text-align: right;\">\n",
       "      <th></th>\n",
       "      <th>Unnamed: 0</th>\n",
       "      <th>pid</th>\n",
       "      <th>filename</th>\n",
       "      <th>disease</th>\n",
       "    </tr>\n",
       "  </thead>\n",
       "  <tbody>\n",
       "    <tr>\n",
       "      <th>0</th>\n",
       "      <td>1454</td>\n",
       "      <td>198</td>\n",
       "      <td>198_1b5_Lr_mc_AKGC417L_6.wav</td>\n",
       "      <td>COPD</td>\n",
       "    </tr>\n",
       "    <tr>\n",
       "      <th>1</th>\n",
       "      <td>5815</td>\n",
       "      <td>159</td>\n",
       "      <td>159_1b1_Pr_sc_Meditron_5.wav</td>\n",
       "      <td>Healthy</td>\n",
       "    </tr>\n",
       "    <tr>\n",
       "      <th>2</th>\n",
       "      <td>473</td>\n",
       "      <td>130</td>\n",
       "      <td>130_3b4_Ar_mc_AKGC417L_4.wav</td>\n",
       "      <td>COPD</td>\n",
       "    </tr>\n",
       "    <tr>\n",
       "      <th>3</th>\n",
       "      <td>6314</td>\n",
       "      <td>127</td>\n",
       "      <td>127_1b1_Ar_sc_Meditron_5.wav</td>\n",
       "      <td>Healthy</td>\n",
       "    </tr>\n",
       "    <tr>\n",
       "      <th>4</th>\n",
       "      <td>1253</td>\n",
       "      <td>203</td>\n",
       "      <td>203_1p2_Tc_mc_AKGC417L_3.wav</td>\n",
       "      <td>COPD</td>\n",
       "    </tr>\n",
       "  </tbody>\n",
       "</table>\n",
       "</div>"
      ],
      "text/plain": [
       "   Unnamed: 0  pid                      filename  disease\n",
       "0        1454  198  198_1b5_Lr_mc_AKGC417L_6.wav     COPD\n",
       "1        5815  159  159_1b1_Pr_sc_Meditron_5.wav  Healthy\n",
       "2         473  130  130_3b4_Ar_mc_AKGC417L_4.wav     COPD\n",
       "3        6314  127  127_1b1_Ar_sc_Meditron_5.wav  Healthy\n",
       "4        1253  203  203_1p2_Tc_mc_AKGC417L_3.wav     COPD"
      ]
     },
     "execution_count": 28,
     "metadata": {},
     "output_type": "execute_result"
    }
   ],
   "source": [
    "train=pd.read_csv('./train.csv')\n",
    "val=pd.read_csv('./val.csv')\n",
    "train.head()"
   ]
  },
  {
   "cell_type": "code",
   "execution_count": 29,
   "metadata": {},
   "outputs": [
    {
     "data": {
      "text/plain": [
       "0       COPD\n",
       "1       COPD\n",
       "2       COPD\n",
       "3       COPD\n",
       "4       COPD\n",
       "        ... \n",
       "1720    COPD\n",
       "1721    COPD\n",
       "1722    COPD\n",
       "1723    COPD\n",
       "1724    COPD\n",
       "Name: disease, Length: 1725, dtype: object"
      ]
     },
     "execution_count": 29,
     "metadata": {},
     "output_type": "execute_result"
    }
   ],
   "source": [
    "ytrain=train.disease\n",
    "yval=val.disease\n",
    "yval"
   ]
  },
  {
   "cell_type": "code",
   "execution_count": 72,
   "metadata": {},
   "outputs": [
    {
     "name": "stderr",
     "output_type": "stream",
     "text": [
      "/home/gurnameh/dev/MLproj/housing_model/env/lib/python3.8/site-packages/seaborn/_decorators.py:36: FutureWarning: Pass the following variable as a keyword arg: x. From version 0.12, the only valid positional argument will be `data`, and passing other arguments without an explicit keyword will result in an error or misinterpretation.\n",
      "  warnings.warn(\n"
     ]
    },
    {
     "data": {
      "text/plain": [
       "<AxesSubplot:xlabel='disease', ylabel='count'>"
      ]
     },
     "execution_count": 72,
     "metadata": {},
     "output_type": "execute_result"
    },
    {
     "data": {
      "image/png": "[encoded data removed]",
      "text/plain": [
       "<Figure size 432x288 with 1 Axes>"
      ]
     },
     "metadata": {
      "needs_background": "light"
     },
     "output_type": "display_data"
    }
   ],
   "source": [
    "sns.countplot(train.disease)"
   ]
  },
  {
   "cell_type": "code",
   "execution_count": 30,
   "metadata": {},
   "outputs": [],
   "source": [
    "from sklearn.preprocessing import LabelEncoder\n",
    "le=LabelEncoder()\n",
    "ytrain=le.fit_transform(ytrain)\n",
    "yval=le.transform(yval)"
   ]
  },
  {
   "cell_type": "code",
   "execution_count": 31,
   "metadata": {},
   "outputs": [],
   "source": [
    "def getFeatures(path):\n",
    "    soundArr,sample_rate=lb.load(path)\n",
    "    mfcc=lb.feature.mfcc(y=soundArr,sr=sample_rate)\n",
    "    cstft=lb.feature.chroma_stft(y=soundArr,sr=sample_rate)\n",
    "    mSpec=lb.feature.melspectrogram(y=soundArr,sr=sample_rate)\n",
    "\n",
    "    return mfcc,cstft,mSpec"
   ]
  },
  {
   "cell_type": "code",
   "execution_count": null,
   "metadata": {},
   "outputs": [],
   "source": [
    "import librosa as lb\n",
    "import soundfile as sf\n",
    "from tqdm import tqdm\n",
    "root='./processed_audio_files/'\n",
    "mfcc,cstft,mSpec=[],[],[]\n",
    "\n",
    "for idx,row in tqdm(val.iterrows()):\n",
    "    path=root + row['filename']\n",
    "    a,b,c=getFeatures(path)\n",
    "    mfcc.append(a)\n",
    "    cstft.append(b)\n",
    "    mSpec.append(c)\n",
    "    \n",
    "mfcc_val=np.array(mfcc)\n",
    "cstft_val=np.array(cstft)\n",
    "mSpec_val=np.array(mSpec)"
   ]
  },
  {
   "cell_type": "code",
   "execution_count": null,
   "metadata": {},
   "outputs": [],
   "source": [
    "root='./processed_audio_files/'\n",
    "mfcc,cstft,mSpec=[],[],[]\n",
    "\n",
    "for idx,row in tqdm(train.iterrows()):\n",
    "    path=root + row['filename']\n",
    "    a,b,c=getFeatures(path)\n",
    "    mfcc.append(a)\n",
    "    cstft.append(b)\n",
    "    mSpec.append(c)\n",
    "    # tone.append(d)\n",
    "    # specCen.append(e)\n",
    "    \n",
    "mfcc_train=np.array(mfcc)\n",
    "cstft_train=np.array(cstft)\n",
    "mSpec_train=np.array(mSpec)"
   ]
  },
  {
   "cell_type": "code",
   "execution_count": 41,
   "metadata": {},
   "outputs": [
    {
     "data": {
      "text/plain": [
       "[Text(0.5, 1.0, 'Mel-frequency spectrogram')]"
      ]
     },
     "execution_count": 41,
     "metadata": {},
     "output_type": "execute_result"
    },
    {
     "data": {
      "image/png": "[encoded data removed]",
      "text/plain": [
       "<Figure size 432x288 with 2 Axes>"
      ]
     },
     "metadata": {
      "needs_background": "light"
     },
     "output_type": "display_data"
    }
   ],
   "source": [
    "fig, ax = plt.subplots()\n",
    "soundArr,sample_rate=lb.load(root + Xtrain.iloc[0].filename)\n",
    "S_dB = librosa.power_to_db(mSpec_train[0], ref=np.max)\n",
    "img = librosa.display.specshow(S_dB, x_axis='time',\n",
    "                         y_axis='mel', sr=sample_rate,\n",
    "                         fmax=8000, ax=ax)\n",
    "fig.colorbar(img, ax=ax, format='%+2.0f dB')\n",
    "ax.set(title='Mel-frequency spectrogram')"
   ]
  },
  {
   "cell_type": "code",
   "execution_count": 42,
   "metadata": {},
   "outputs": [],
   "source": [
    "my_callbacks = [\n",
    "    tf.keras.callbacks.EarlyStopping(patience=10),\n",
    "    tf.keras.callbacks.ReduceLROnPlateau(monitor='val_loss', factor=0.1,\n",
    "                              patience=3, min_lr=0.00001,mode='min')\n",
    "]"
   ]
  },
  {
   "cell_type": "code",
   "execution_count": 59,
   "metadata": {},
   "outputs": [],
   "source": [
    "mfcc_input=keras.layers.Input(shape=(20,259,1),name=\"mfccInput\")\n",
    "x=tf.keras.layers.Conv2D(32,5,strides=(1,3),padding='same')(mfcc_input)\n",
    "x=tf.keras.layers.BatchNormalization()(x)\n",
    "x=tf.keras.layers.Activation(keras.activations.relu)(x)\n",
    "x=tf.keras.layers.MaxPooling2D(pool_size=2,padding='valid')(x)\n",
    "\n",
    "x=tf.keras.layers.Conv2D(64,3,strides=(1,2),padding='same')(x)\n",
    "x=tf.keras.layers.BatchNormalization()(x)\n",
    "x=tf.keras.layers.Activation(keras.activations.relu)(x)\n",
    "x=tf.keras.layers.MaxPooling2D(pool_size=2,padding='valid')(x)\n",
    "\n",
    "x=tf.keras.layers.Conv2D(96,2,padding='same')(x)\n",
    "x=tf.keras.layers.BatchNormalization()(x)\n",
    "x=tf.keras.layers.Activation(keras.activations.relu)(x)\n",
    "x=tf.keras.layers.MaxPooling2D(pool_size=2,padding='valid')(x)\n",
    "\n",
    "x=tf.keras.layers.Conv2D(128,2,padding='same')(x)\n",
    "x=tf.keras.layers.BatchNormalization()(x)\n",
    "x=tf.keras.layers.Activation(keras.activations.relu)(x)\n",
    "mfcc_output=tf.keras.layers.GlobalMaxPooling2D()(x)\n",
    "\n",
    "mfcc_model=tf.keras.Model(mfcc_input, mfcc_output, name=\"mfccModel\")"
   ]
  },
  {
   "cell_type": "code",
   "execution_count": 60,
   "metadata": {},
   "outputs": [
    {
     "data": {
      "text/plain": [
       "(5173, 20, 259)"
      ]
     },
     "execution_count": 60,
     "metadata": {},
     "output_type": "execute_result"
    }
   ],
   "source": [
    "mfcc_train.shape"
   ]
  },
  {
   "cell_type": "code",
   "execution_count": 61,
   "metadata": {},
   "outputs": [
    {
     "name": "stdout",
     "output_type": "stream",
     "text": [
      "Model: \"mfccModel\"\n",
      "_________________________________________________________________\n",
      " Layer (type)                Output Shape              Param #   \n",
      "=================================================================\n",
      " mfccInput (InputLayer)      [(None, 20, 259, 1)]      0         \n",
      "                                                                 \n",
      " conv2d_11 (Conv2D)          (None, 20, 87, 32)        832       \n",
      "                                                                 \n",
      " batch_normalization_11 (Bat  (None, 20, 87, 32)       128       \n",
      " chNormalization)                                                \n",
      "                                                                 \n",
      " activation_11 (Activation)  (None, 20, 87, 32)        0         \n",
      "                                                                 \n",
      " max_pooling2d_8 (MaxPooling  (None, 10, 43, 32)       0         \n",
      " 2D)                                                             \n",
      "                                                                 \n",
      " conv2d_12 (Conv2D)          (None, 10, 22, 64)        18496     \n",
      "                                                                 \n",
      " batch_normalization_12 (Bat  (None, 10, 22, 64)       256       \n",
      " chNormalization)                                                \n",
      "                                                                 \n",
      " activation_12 (Activation)  (None, 10, 22, 64)        0         \n",
      "                                                                 \n",
      " max_pooling2d_9 (MaxPooling  (None, 5, 11, 64)        0         \n",
      " 2D)                                                             \n",
      "                                                                 \n",
      " conv2d_13 (Conv2D)          (None, 5, 11, 96)         24672     \n",
      "                                                                 \n",
      " batch_normalization_13 (Bat  (None, 5, 11, 96)        384       \n",
      " chNormalization)                                                \n",
      "                                                                 \n",
      " activation_13 (Activation)  (None, 5, 11, 96)         0         \n",
      "                                                                 \n",
      " max_pooling2d_10 (MaxPoolin  (None, 2, 5, 96)         0         \n",
      " g2D)                                                            \n",
      "                                                                 \n",
      " conv2d_14 (Conv2D)          (None, 2, 5, 128)         49280     \n",
      "                                                                 \n",
      " batch_normalization_14 (Bat  (None, 2, 5, 128)        512       \n",
      " chNormalization)                                                \n",
      "                                                                 \n",
      " activation_14 (Activation)  (None, 2, 5, 128)         0         \n",
      "                                                                 \n",
      " global_max_pooling2d_3 (Glo  (None, 128)              0         \n",
      " balMaxPooling2D)                                                \n",
      "                                                                 \n",
      "=================================================================\n",
      "Total params: 94,560\n",
      "Trainable params: 93,920\n",
      "Non-trainable params: 640\n",
      "_________________________________________________________________\n"
     ]
    }
   ],
   "source": [
    "mfcc_model.summary()"
   ]
  },
  {
   "cell_type": "code",
   "execution_count": 62,
   "metadata": {},
   "outputs": [],
   "source": [
    "croma_input=tf.keras.layers.Input(shape=(12,259,1),name=\"cromaInput\")\n",
    "x=tf.keras.layers.Conv2D(32,5,strides=(1,3),padding='same')(croma_input)\n",
    "x=tf.keras.layers.BatchNormalization()(x)\n",
    "x=tf.keras.layers.Activation(keras.activations.relu)(x)\n",
    "x=tf.keras.layers.MaxPooling2D(pool_size=2,padding='valid')(x)\n",
    "\n",
    "x=tf.keras.layers.Conv2D(64,3,strides=(1,2),padding='same')(x)\n",
    "x=tf.keras.layers.BatchNormalization()(x)\n",
    "x=tf.keras.layers.Activation(keras.activations.relu)(x)\n",
    "x=tf.keras.layers.MaxPooling2D(pool_size=2,padding='valid')(x)\n",
    "\n",
    "x=tf.keras.layers.Conv2D(96,2,padding='same')(x)\n",
    "x=tf.keras.layers.BatchNormalization()(x)\n",
    "x=tf.keras.layers.Activation(keras.activations.relu)(x)\n",
    "x=tf.keras.layers.MaxPooling2D(pool_size=2,padding='valid')(x)\n",
    "\n",
    "x=tf.keras.layers.Conv2D(128,2,padding='same')(x)\n",
    "x=tf.keras.layers.BatchNormalization()(x)\n",
    "x=tf.keras.layers.Activation(keras.activations.relu)(x)\n",
    "croma_output=tf.keras.layers.GlobalMaxPooling2D()(x)\n",
    "\n",
    "croma_model=tf.keras.Model(croma_input, croma_output, name=\"cromaModel\")"
   ]
  },
  {
   "cell_type": "code",
   "execution_count": 63,
   "metadata": {},
   "outputs": [
    {
     "name": "stdout",
     "output_type": "stream",
     "text": [
      "Model: \"cromaModel\"\n",
      "_________________________________________________________________\n",
      " Layer (type)                Output Shape              Param #   \n",
      "=================================================================\n",
      " cromaInput (InputLayer)     [(None, 12, 259, 1)]      0         \n",
      "                                                                 \n",
      " conv2d_15 (Conv2D)          (None, 12, 87, 32)        832       \n",
      "                                                                 \n",
      " batch_normalization_15 (Bat  (None, 12, 87, 32)       128       \n",
      " chNormalization)                                                \n",
      "                                                                 \n",
      " activation_15 (Activation)  (None, 12, 87, 32)        0         \n",
      "                                                                 \n",
      " max_pooling2d_11 (MaxPoolin  (None, 6, 43, 32)        0         \n",
      " g2D)                                                            \n",
      "                                                                 \n",
      " conv2d_16 (Conv2D)          (None, 6, 22, 64)         18496     \n",
      "                                                                 \n",
      " batch_normalization_16 (Bat  (None, 6, 22, 64)        256       \n",
      " chNormalization)                                                \n",
      "                                                                 \n",
      " activation_16 (Activation)  (None, 6, 22, 64)         0         \n",
      "                                                                 \n",
      " max_pooling2d_12 (MaxPoolin  (None, 3, 11, 64)        0         \n",
      " g2D)                                                            \n",
      "                                                                 \n",
      " conv2d_17 (Conv2D)          (None, 3, 11, 96)         24672     \n",
      "                                                                 \n",
      " batch_normalization_17 (Bat  (None, 3, 11, 96)        384       \n",
      " chNormalization)                                                \n",
      "                                                                 \n",
      " activation_17 (Activation)  (None, 3, 11, 96)         0         \n",
      "                                                                 \n",
      " max_pooling2d_13 (MaxPoolin  (None, 1, 5, 96)         0         \n",
      " g2D)                                                            \n",
      "                                                                 \n",
      " conv2d_18 (Conv2D)          (None, 1, 5, 128)         49280     \n",
      "                                                                 \n",
      " batch_normalization_18 (Bat  (None, 1, 5, 128)        512       \n",
      " chNormalization)                                                \n",
      "                                                                 \n",
      " activation_18 (Activation)  (None, 1, 5, 128)         0         \n",
      "                                                                 \n",
      " global_max_pooling2d_4 (Glo  (None, 128)              0         \n",
      " balMaxPooling2D)                                                \n",
      "                                                                 \n",
      "=================================================================\n",
      "Total params: 94,560\n",
      "Trainable params: 93,920\n",
      "Non-trainable params: 640\n",
      "_________________________________________________________________\n"
     ]
    }
   ],
   "source": [
    "croma_model.summary()"
   ]
  },
  {
   "cell_type": "code",
   "execution_count": 64,
   "metadata": {},
   "outputs": [],
   "source": [
    "mSpec_input=tf.keras.layers.Input(shape=(128,259,1),name=\"mSpecInput\")\n",
    "x=tf.keras.layers.Conv2D(32,5,strides=(2,3),padding='same')(mSpec_input)\n",
    "x=tf.keras.layers.BatchNormalization()(x)\n",
    "x=tf.keras.layers.Activation(keras.activations.relu)(x)\n",
    "x=tf.keras.layers.MaxPooling2D(pool_size=2,padding='valid')(x)\n",
    "\n",
    "x=tf.keras.layers.Conv2D(64,3,strides=(2,2),padding='same')(x)\n",
    "x=tf.keras.layers.BatchNormalization()(x)\n",
    "x=tf.keras.layers.Activation(keras.activations.relu)(x)\n",
    "x=tf.keras.layers.MaxPooling2D(pool_size=2,padding='valid')(x)\n",
    "\n",
    "x=tf.keras.layers.Conv2D(96,2,padding='same')(x)\n",
    "x=tf.keras.layers.BatchNormalization()(x)\n",
    "x=tf.keras.layers.Activation(keras.activations.relu)(x)\n",
    "x=tf.keras.layers.MaxPooling2D(pool_size=2,padding='valid')(x)\n",
    "\n",
    "x=tf.keras.layers.Conv2D(128,2,padding='same')(x)\n",
    "x=tf.keras.layers.BatchNormalization()(x)\n",
    "x=tf.keras.layers.Activation(keras.activations.relu)(x)\n",
    "mSpec_output=tf.keras.layers.GlobalMaxPooling2D()(x)\n",
    "\n",
    "mSpec_model=keras.Model(mSpec_input, mSpec_output, name=\"mSpecModel\")"
   ]
  },
  {
   "cell_type": "code",
   "execution_count": 65,
   "metadata": {},
   "outputs": [
    {
     "name": "stdout",
     "output_type": "stream",
     "text": [
      "Model: \"mSpecModel\"\n",
      "_________________________________________________________________\n",
      " Layer (type)                Output Shape              Param #   \n",
      "=================================================================\n",
      " mSpecInput (InputLayer)     [(None, 128, 259, 1)]     0         \n",
      "                                                                 \n",
      " conv2d_19 (Conv2D)          (None, 64, 87, 32)        832       \n",
      "                                                                 \n",
      " batch_normalization_19 (Bat  (None, 64, 87, 32)       128       \n",
      " chNormalization)                                                \n",
      "                                                                 \n",
      " activation_19 (Activation)  (None, 64, 87, 32)        0         \n",
      "                                                                 \n",
      " max_pooling2d_14 (MaxPoolin  (None, 32, 43, 32)       0         \n",
      " g2D)                                                            \n",
      "                                                                 \n",
      " conv2d_20 (Conv2D)          (None, 16, 22, 64)        18496     \n",
      "                                                                 \n",
      " batch_normalization_20 (Bat  (None, 16, 22, 64)       256       \n",
      " chNormalization)                                                \n",
      "                                                                 \n",
      " activation_20 (Activation)  (None, 16, 22, 64)        0         \n",
      "                                                                 \n",
      " max_pooling2d_15 (MaxPoolin  (None, 8, 11, 64)        0         \n",
      " g2D)                                                            \n",
      "                                                                 \n",
      " conv2d_21 (Conv2D)          (None, 8, 11, 96)         24672     \n",
      "                                                                 \n",
      " batch_normalization_21 (Bat  (None, 8, 11, 96)        384       \n",
      " chNormalization)                                                \n",
      "                                                                 \n",
      " activation_21 (Activation)  (None, 8, 11, 96)         0         \n",
      "                                                                 \n",
      " max_pooling2d_16 (MaxPoolin  (None, 4, 5, 96)         0         \n",
      " g2D)                                                            \n",
      "                                                                 \n",
      " conv2d_22 (Conv2D)          (None, 4, 5, 128)         49280     \n",
      "                                                                 \n",
      " batch_normalization_22 (Bat  (None, 4, 5, 128)        512       \n",
      " chNormalization)                                                \n",
      "                                                                 \n",
      " activation_22 (Activation)  (None, 4, 5, 128)         0         \n",
      "                                                                 \n",
      " global_max_pooling2d_5 (Glo  (None, 128)              0         \n",
      " balMaxPooling2D)                                                \n",
      "                                                                 \n",
      "=================================================================\n",
      "Total params: 94,560\n",
      "Trainable params: 93,920\n",
      "Non-trainable params: 640\n",
      "_________________________________________________________________\n"
     ]
    }
   ],
   "source": [
    "mSpec_model.summary()"
   ]
  },
  {
   "cell_type": "code",
   "execution_count": 66,
   "metadata": {},
   "outputs": [],
   "source": [
    "input_mfcc=tf.keras.layers.Input(shape=(20,259,1),name=\"mfcc\")\n",
    "mfcc=mfcc_model(input_mfcc)\n",
    "\n",
    "input_croma=tf.keras.layers.Input(shape=(12,259,1),name=\"croma\")\n",
    "croma=croma_model(input_croma)\n",
    "\n",
    "input_mSpec=tf.keras.layers.Input(shape=(128,259,1),name=\"mspec\")\n",
    "mSpec=mSpec_model(input_mSpec)\n",
    "\n",
    "\n",
    "concat=tf.keras.layers.concatenate([mfcc,croma,mSpec])\n",
    "hidden=tf.keras.layers.Dropout(0.2)(concat)\n",
    "hidden=tf.keras.layers.Dense(50,activation='relu')(concat)\n",
    "hidden=tf.keras.layers.Dropout(0.3)(hidden)\n",
    "hidden=tf.keras.layers.Dense(25,activation='relu')(hidden)\n",
    "hidden=tf.keras.layers.Dropout(0.3)(hidden)\n",
    "output=tf.keras.layers.Dense(8,activation='softmax')(hidden)\n",
    "\n",
    "net=tf.keras.Model([input_mfcc,input_croma,input_mSpec], output, name=\"Net\")"
   ]
  },
  {
   "cell_type": "code",
   "execution_count": 67,
   "metadata": {},
   "outputs": [
    {
     "name": "stdout",
     "output_type": "stream",
     "text": [
      "Model: \"Net\"\n",
      "__________________________________________________________________________________________________\n",
      " Layer (type)                   Output Shape         Param #     Connected to                     \n",
      "==================================================================================================\n",
      " mfcc (InputLayer)              [(None, 20, 259, 1)  0           []                               \n",
      "                                ]                                                                 \n",
      "                                                                                                  \n",
      " croma (InputLayer)             [(None, 12, 259, 1)  0           []                               \n",
      "                                ]                                                                 \n",
      "                                                                                                  \n",
      " mspec (InputLayer)             [(None, 128, 259, 1  0           []                               \n",
      "                                )]                                                                \n",
      "                                                                                                  \n",
      " mfccModel (Functional)         (None, 128)          94560       ['mfcc[0][0]']                   \n",
      "                                                                                                  \n",
      " cromaModel (Functional)        (None, 128)          94560       ['croma[0][0]']                  \n",
      "                                                                                                  \n",
      " mSpecModel (Functional)        (None, 128)          94560       ['mspec[0][0]']                  \n",
      "                                                                                                  \n",
      " concatenate_1 (Concatenate)    (None, 384)          0           ['mfccModel[0][0]',              \n",
      "                                                                  'cromaModel[0][0]',             \n",
      "                                                                  'mSpecModel[0][0]']             \n",
      "                                                                                                  \n",
      " dense_3 (Dense)                (None, 50)           19250       ['concatenate_1[0][0]']          \n",
      "                                                                                                  \n",
      " dropout_4 (Dropout)            (None, 50)           0           ['dense_3[0][0]']                \n",
      "                                                                                                  \n",
      " dense_4 (Dense)                (None, 25)           1275        ['dropout_4[0][0]']              \n",
      "                                                                                                  \n",
      " dropout_5 (Dropout)            (None, 25)           0           ['dense_4[0][0]']                \n",
      "                                                                                                  \n",
      " dense_5 (Dense)                (None, 8)            208         ['dropout_5[0][0]']              \n",
      "                                                                                                  \n",
      "==================================================================================================\n",
      "Total params: 304,413\n",
      "Trainable params: 302,493\n",
      "Non-trainable params: 1,920\n",
      "__________________________________________________________________________________________________\n"
     ]
    }
   ],
   "source": [
    "net.summary()"
   ]
  },
  {
   "cell_type": "code",
   "execution_count": 68,
   "metadata": {},
   "outputs": [
    {
     "name": "stdout",
     "output_type": "stream",
     "text": [
      "('You must install pydot (`pip install pydot`) and install graphviz (see instructions at https://graphviz.gitlab.io/download/) ', 'for plot_model/model_to_dot to work.')\n"
     ]
    }
   ],
   "source": [
    "tf.keras.utils.plot_model(net, \"net.png\", show_shapes=True)"
   ]
  },
  {
   "cell_type": "code",
   "execution_count": 69,
   "metadata": {},
   "outputs": [],
   "source": [
    "from keras import backend as K\n",
    "net.compile(loss='sparse_categorical_crossentropy', optimizer='nadam', metrics=['accuracy'])\n",
    "K.set_value(net.optimizer.learning_rate, 0.001)"
   ]
  },
  {
   "cell_type": "code",
   "execution_count": 70,
   "metadata": {},
   "outputs": [
    {
     "name": "stdout",
     "output_type": "stream",
     "text": [
      "Epoch 1/100\n",
      "162/162 [==============================] - 9s 35ms/step - loss: 0.7140 - accuracy: 0.7997 - val_loss: 0.5341 - val_accuracy: 0.8330 - lr: 0.0010\n",
      "Epoch 2/100\n",
      "162/162 [==============================] - 5s 32ms/step - loss: 0.4981 - accuracy: 0.8363 - val_loss: 0.4894 - val_accuracy: 0.8400 - lr: 0.0010\n",
      "Epoch 3/100\n",
      "162/162 [==============================] - 5s 31ms/step - loss: 0.4411 - accuracy: 0.8428 - val_loss: 0.4613 - val_accuracy: 0.8330 - lr: 0.0010\n",
      "Epoch 4/100\n",
      "162/162 [==============================] - 5s 32ms/step - loss: 0.4044 - accuracy: 0.8527 - val_loss: 0.3386 - val_accuracy: 0.8638 - lr: 0.0010\n",
      "Epoch 5/100\n",
      "162/162 [==============================] - 5s 32ms/step - loss: 0.3834 - accuracy: 0.8575 - val_loss: 0.4621 - val_accuracy: 0.8614 - lr: 0.0010\n",
      "Epoch 6/100\n",
      "162/162 [==============================] - 5s 31ms/step - loss: 0.3734 - accuracy: 0.8556 - val_loss: 0.3549 - val_accuracy: 0.8719 - lr: 0.0010\n",
      "Epoch 7/100\n",
      "162/162 [==============================] - 5s 32ms/step - loss: 0.3376 - accuracy: 0.8745 - val_loss: 0.2926 - val_accuracy: 0.8864 - lr: 0.0010\n",
      "Epoch 8/100\n",
      "162/162 [==============================] - 5s 31ms/step - loss: 0.3286 - accuracy: 0.8753 - val_loss: 0.3187 - val_accuracy: 0.8754 - lr: 0.0010\n",
      "Epoch 9/100\n",
      "162/162 [==============================] - 5s 31ms/step - loss: 0.3091 - accuracy: 0.8819 - val_loss: 0.3012 - val_accuracy: 0.8841 - lr: 0.0010\n",
      "Epoch 10/100\n",
      "162/162 [==============================] - 5s 31ms/step - loss: 0.2905 - accuracy: 0.8900 - val_loss: 0.9633 - val_accuracy: 0.8481 - lr: 0.0010\n",
      "Epoch 11/100\n",
      "162/162 [==============================] - 5s 32ms/step - loss: 0.2549 - accuracy: 0.8974 - val_loss: 0.2346 - val_accuracy: 0.9119 - lr: 1.0000e-04\n",
      "Epoch 12/100\n",
      "162/162 [==============================] - 5s 31ms/step - loss: 0.2457 - accuracy: 0.9041 - val_loss: 0.2449 - val_accuracy: 0.9136 - lr: 1.0000e-04\n",
      "Epoch 13/100\n",
      "162/162 [==============================] - 5s 31ms/step - loss: 0.2358 - accuracy: 0.9055 - val_loss: 0.2107 - val_accuracy: 0.9194 - lr: 1.0000e-04\n",
      "Epoch 14/100\n",
      "162/162 [==============================] - 5s 31ms/step - loss: 0.2276 - accuracy: 0.9111 - val_loss: 0.2073 - val_accuracy: 0.9229 - lr: 1.0000e-04\n",
      "Epoch 15/100\n",
      "162/162 [==============================] - 5s 31ms/step - loss: 0.2181 - accuracy: 0.9122 - val_loss: 0.2525 - val_accuracy: 0.9130 - lr: 1.0000e-04\n",
      "Epoch 16/100\n",
      "162/162 [==============================] - 5s 32ms/step - loss: 0.2223 - accuracy: 0.9134 - val_loss: 0.2317 - val_accuracy: 0.9229 - lr: 1.0000e-04\n",
      "Epoch 17/100\n",
      "162/162 [==============================] - 5s 30ms/step - loss: 0.2126 - accuracy: 0.9126 - val_loss: 0.2057 - val_accuracy: 0.9223 - lr: 1.0000e-04\n",
      "Epoch 18/100\n",
      "162/162 [==============================] - 5s 31ms/step - loss: 0.2093 - accuracy: 0.9173 - val_loss: 0.1941 - val_accuracy: 0.9275 - lr: 1.0000e-04\n",
      "Epoch 19/100\n",
      "162/162 [==============================] - 5s 32ms/step - loss: 0.1959 - accuracy: 0.9238 - val_loss: 0.1913 - val_accuracy: 0.9264 - lr: 1.0000e-04\n",
      "Epoch 20/100\n",
      "162/162 [==============================] - 5s 31ms/step - loss: 0.1976 - accuracy: 0.9248 - val_loss: 0.2856 - val_accuracy: 0.9055 - lr: 1.0000e-04\n",
      "Epoch 21/100\n",
      "162/162 [==============================] - 5s 31ms/step - loss: 0.1885 - accuracy: 0.9248 - val_loss: 0.1932 - val_accuracy: 0.9304 - lr: 1.0000e-04\n",
      "Epoch 22/100\n",
      "162/162 [==============================] - 5s 32ms/step - loss: 0.1833 - accuracy: 0.9271 - val_loss: 0.2093 - val_accuracy: 0.9136 - lr: 1.0000e-04\n",
      "Epoch 23/100\n",
      "162/162 [==============================] - 5s 32ms/step - loss: 0.1782 - accuracy: 0.9277 - val_loss: 0.1803 - val_accuracy: 0.9316 - lr: 1.0000e-05\n",
      "Epoch 24/100\n",
      "162/162 [==============================] - 5s 32ms/step - loss: 0.1706 - accuracy: 0.9339 - val_loss: 0.1805 - val_accuracy: 0.9322 - lr: 1.0000e-05\n",
      "Epoch 25/100\n",
      "162/162 [==============================] - 5s 32ms/step - loss: 0.1739 - accuracy: 0.9341 - val_loss: 0.1831 - val_accuracy: 0.9333 - lr: 1.0000e-05\n",
      "Epoch 26/100\n",
      "162/162 [==============================] - 5s 32ms/step - loss: 0.1740 - accuracy: 0.9337 - val_loss: 0.1777 - val_accuracy: 0.9339 - lr: 1.0000e-05\n",
      "Epoch 27/100\n",
      "162/162 [==============================] - 5s 32ms/step - loss: 0.1719 - accuracy: 0.9343 - val_loss: 0.1756 - val_accuracy: 0.9345 - lr: 1.0000e-05\n",
      "Epoch 28/100\n",
      "162/162 [==============================] - 5s 31ms/step - loss: 0.1691 - accuracy: 0.9323 - val_loss: 0.1818 - val_accuracy: 0.9328 - lr: 1.0000e-05\n",
      "Epoch 29/100\n",
      "162/162 [==============================] - 5s 30ms/step - loss: 0.1734 - accuracy: 0.9308 - val_loss: 0.1736 - val_accuracy: 0.9345 - lr: 1.0000e-05\n",
      "Epoch 30/100\n",
      "162/162 [==============================] - 5s 31ms/step - loss: 0.1700 - accuracy: 0.9356 - val_loss: 0.1756 - val_accuracy: 0.9333 - lr: 1.0000e-05\n",
      "Epoch 31/100\n",
      "162/162 [==============================] - 5s 32ms/step - loss: 0.1633 - accuracy: 0.9347 - val_loss: 0.1760 - val_accuracy: 0.9328 - lr: 1.0000e-05\n",
      "Epoch 32/100\n",
      "162/162 [==============================] - 5s 31ms/step - loss: 0.1715 - accuracy: 0.9318 - val_loss: 0.1734 - val_accuracy: 0.9322 - lr: 1.0000e-05\n",
      "Epoch 33/100\n",
      "162/162 [==============================] - 5s 32ms/step - loss: 0.1671 - accuracy: 0.9360 - val_loss: 0.1735 - val_accuracy: 0.9339 - lr: 1.0000e-05\n",
      "Epoch 34/100\n",
      "162/162 [==============================] - 5s 31ms/step - loss: 0.1641 - accuracy: 0.9358 - val_loss: 0.1746 - val_accuracy: 0.9351 - lr: 1.0000e-05\n",
      "Epoch 35/100\n",
      "162/162 [==============================] - 5s 32ms/step - loss: 0.1643 - accuracy: 0.9370 - val_loss: 0.1760 - val_accuracy: 0.9316 - lr: 1.0000e-05\n",
      "Epoch 36/100\n",
      "162/162 [==============================] - 5s 31ms/step - loss: 0.1696 - accuracy: 0.9323 - val_loss: 0.1722 - val_accuracy: 0.9310 - lr: 1.0000e-05\n",
      "Epoch 37/100\n",
      "162/162 [==============================] - 5s 31ms/step - loss: 0.1628 - accuracy: 0.9374 - val_loss: 0.1727 - val_accuracy: 0.9339 - lr: 1.0000e-05\n",
      "Epoch 38/100\n",
      "162/162 [==============================] - 5s 32ms/step - loss: 0.1644 - accuracy: 0.9335 - val_loss: 0.1732 - val_accuracy: 0.9322 - lr: 1.0000e-05\n",
      "Epoch 39/100\n",
      "162/162 [==============================] - 5s 32ms/step - loss: 0.1700 - accuracy: 0.9291 - val_loss: 0.1725 - val_accuracy: 0.9333 - lr: 1.0000e-05\n",
      "Epoch 40/100\n",
      "162/162 [==============================] - 5s 33ms/step - loss: 0.1625 - accuracy: 0.9381 - val_loss: 0.1788 - val_accuracy: 0.9310 - lr: 1.0000e-05\n",
      "Epoch 41/100\n",
      "162/162 [==============================] - 5s 32ms/step - loss: 0.1620 - accuracy: 0.9372 - val_loss: 0.1730 - val_accuracy: 0.9328 - lr: 1.0000e-05\n"
     ]
    }
   ],
   "source": [
    "history=net.fit(\n",
    "    {\"mfcc\":mfcc_train,\"croma\":cstft_train,\"mspec\":mSpec_train},\n",
    "    ytrain,\n",
    "    validation_data=({\"mfcc\":mfcc_val,\"croma\":cstft_val,\"mspec\":mSpec_val},yval),\n",
    "    epochs=100,verbose=1,\n",
    "    callbacks=my_callbacks\n",
    ")"
   ]
  },
  {
   "cell_type": "code",
   "execution_count": 55,
   "metadata": {},
   "outputs": [
    {
     "data": {
      "image/png": "[encoded data removed]",
      "text/plain": [
       "<Figure size 432x288 with 1 Axes>"
      ]
     },
     "metadata": {
      "needs_background": "light"
     },
     "output_type": "display_data"
    }
   ],
   "source": [
    "pd.DataFrame(history.history).plot()\n",
    "plt.grid(True)\n",
    "plt.gca().set_ylim(-0.1,1.1)\n",
    "plt.show()"
   ]
  },
  {
   "cell_type": "code",
   "execution_count": 56,
   "metadata": {},
   "outputs": [
    {
     "name": "stdout",
     "output_type": "stream",
     "text": [
      "54/54 [==============================] - 1s 10ms/step - loss: 0.1730 - accuracy: 0.9391\n"
     ]
    },
    {
     "data": {
      "text/plain": [
       "[0.17303185164928436, 0.939130425453186]"
      ]
     },
     "execution_count": 56,
     "metadata": {},
     "output_type": "execute_result"
    }
   ],
   "source": [
    "net.evaluate({\"mfcc\":mfcc_val,\"croma\":cstft_val,\"mspec\":mSpec_val},yval)"
   ]
  },
  {
   "cell_type": "code",
   "execution_count": 57,
   "metadata": {},
   "outputs": [
    {
     "name": "stdout",
     "output_type": "stream",
     "text": [
      "INFO:tensorflow:Assets written to: my_model/assets\n"
     ]
    }
   ],
   "source": [
    "net.save(\"my_model\")"
   ]
  },
  {
   "cell_type": "code",
   "execution_count": 58,
   "metadata": {},
   "outputs": [],
   "source": [
    "net.save(\"my_model.h5\")"
   ]
  },
  {
   "cell_type": "code",
   "execution_count": 84,
   "metadata": {},
   "outputs": [
    {
     "data": {
      "text/plain": [
       "array([[2.5136555e-07, 8.1530438e-08, 2.8480069e-06, 1.3769987e-02,\n",
       "        3.6941303e-03, 2.8858037e-07, 9.8251843e-01, 1.4084862e-05]],\n",
       "      dtype=float32)"
      ]
     },
     "execution_count": 84,
     "metadata": {},
     "output_type": "execute_result"
    }
   ],
   "source": [
    "net.predict({\"mfcc\": np.expand_dims(mfcc_val[10], axis=0),\n",
    "             \"croma\":np.expand_dims(cstft_val[10], axis=0),\n",
    "             \"mspec\":np.expand_dims(mSpec_val[10], axis=0)})"
   ]
  },
  {
   "cell_type": "code",
   "execution_count": 83,
   "metadata": {},
   "outputs": [
    {
     "data": {
      "text/plain": [
       "(1, 1725, 128, 259)"
      ]
     },
     "execution_count": 83,
     "metadata": {},
     "output_type": "execute_result"
    }
   ],
   "source": []
  },
  {
   "cell_type": "code",
   "execution_count": null,
   "metadata": {},
   "outputs": [],
   "source": []
  }
 ],
 "metadata": {
  "kernelspec": {
   "display_name": "Python 3",
   "language": "python",
   "name": "python3"
  },
  "language_info": {
   "codemirror_mode": {
    "name": "ipython",
    "version": 3
   },
   "file_extension": ".py",
   "mimetype": "text/x-python",
   "name": "python",
   "nbconvert_exporter": "python",
   "pygments_lexer": "ipython3",
   "version": "3.8.10"
  },
  "vscode": {
   "interpreter": {
    "hash": "289bb7ee5def5b7727e73f51ded5c9f0e33a23545573d911e6ac4f931e80b576"
   }
  }
 },
 "nbformat": 4,
 "nbformat_minor": 2
}
