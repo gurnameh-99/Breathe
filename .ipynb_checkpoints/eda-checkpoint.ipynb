{
 "cells": [
  {
   "cell_type": "code",
   "execution_count": 1,
   "metadata": {},
   "outputs": [
    {
     "data": {
      "text/plain": [
       "[PhysicalDevice(name='/physical_device:GPU:0', device_type='GPU')]"
      ]
     },
     "execution_count": 1,
     "metadata": {},
     "output_type": "execute_result"
    }
   ],
   "source": [
    "import tensorflow as tf\n",
    "tf.config.list_physical_devices('GPU')"
   ]
  },
  {
   "cell_type": "code",
   "execution_count": 2,
   "metadata": {},
   "outputs": [],
   "source": [
    "import numpy as np # linear algebra\n",
    "import pandas as pd # data processing, CSV file I/O (e.g. pd.read_csv)\n",
    "import tensorflow as tf\n",
    "from tensorflow import keras\n",
    "import matplotlib.pyplot as plt\n",
    "import seaborn as sns\n",
    "import librosa.display\n",
    "import os"
   ]
  },
  {
   "cell_type": "code",
   "execution_count": 3,
   "metadata": {},
   "outputs": [
    {
     "data": {
      "text/html": [
       "<div>\n",
       "<style scoped>\n",
       "    .dataframe tbody tr th:only-of-type {\n",
       "        vertical-align: middle;\n",
       "    }\n",
       "\n",
       "    .dataframe tbody tr th {\n",
       "        vertical-align: top;\n",
       "    }\n",
       "\n",
       "    .dataframe thead th {\n",
       "        text-align: right;\n",
       "    }\n",
       "</style>\n",
       "<table border=\"1\" class=\"dataframe\">\n",
       "  <thead>\n",
       "    <tr style=\"text-align: right;\">\n",
       "      <th></th>\n",
       "      <th>pid</th>\n",
       "      <th>disease</th>\n",
       "    </tr>\n",
       "  </thead>\n",
       "  <tbody>\n",
       "    <tr>\n",
       "      <th>0</th>\n",
       "      <td>101</td>\n",
       "      <td>URTI</td>\n",
       "    </tr>\n",
       "    <tr>\n",
       "      <th>1</th>\n",
       "      <td>102</td>\n",
       "      <td>Healthy</td>\n",
       "    </tr>\n",
       "    <tr>\n",
       "      <th>2</th>\n",
       "      <td>103</td>\n",
       "      <td>Asthma</td>\n",
       "    </tr>\n",
       "    <tr>\n",
       "      <th>3</th>\n",
       "      <td>104</td>\n",
       "      <td>COPD</td>\n",
       "    </tr>\n",
       "    <tr>\n",
       "      <th>4</th>\n",
       "      <td>105</td>\n",
       "      <td>URTI</td>\n",
       "    </tr>\n",
       "  </tbody>\n",
       "</table>\n",
       "</div>"
      ],
      "text/plain": [
       "   pid  disease\n",
       "0  101     URTI\n",
       "1  102  Healthy\n",
       "2  103   Asthma\n",
       "3  104     COPD\n",
       "4  105     URTI"
      ]
     },
     "execution_count": 3,
     "metadata": {},
     "output_type": "execute_result"
    }
   ],
   "source": [
    "patient_diag = pd.read_csv('./Respiratory_Sound_Database/patient_diagnosis.csv', names=['pid', 'disease'])\n",
    "patient_diag.head()"
   ]
  },
  {
   "cell_type": "code",
   "execution_count": 4,
   "metadata": {},
   "outputs": [],
   "source": [
    "def getFilenameInfo(file):\n",
    "    return file.split('_')"
   ]
  },
  {
   "cell_type": "code",
   "execution_count": 5,
   "metadata": {},
   "outputs": [
    {
     "data": {
      "text/plain": [
       "['126_1b1_Al_sc_Meditron',\n",
       " '148_1b1_Al_sc_Meditron',\n",
       " '130_1p3_Pl_mc_AKGC417L',\n",
       " '205_3b4_Ar_mc_AKGC417L',\n",
       " '174_1p2_Pr_mc_AKGC417L']"
      ]
     },
     "execution_count": 5,
     "metadata": {},
     "output_type": "execute_result"
    }
   ],
   "source": [
    "path='./Respiratory_Sound_Database/audio_and_txt_files/'\n",
    "files=[s.split('.')[0] for s in os.listdir(path) if '.txt' in s]\n",
    "files[:5]"
   ]
  },
  {
   "cell_type": "code",
   "execution_count": 6,
   "metadata": {},
   "outputs": [
    {
     "data": {
      "text/html": [
       "<div>\n",
       "<style scoped>\n",
       "    .dataframe tbody tr th:only-of-type {\n",
       "        vertical-align: middle;\n",
       "    }\n",
       "\n",
       "    .dataframe tbody tr th {\n",
       "        vertical-align: top;\n",
       "    }\n",
       "\n",
       "    .dataframe thead th {\n",
       "        text-align: right;\n",
       "    }\n",
       "</style>\n",
       "<table border=\"1\" class=\"dataframe\">\n",
       "  <thead>\n",
       "    <tr style=\"text-align: right;\">\n",
       "      <th></th>\n",
       "      <th>start</th>\n",
       "      <th>end</th>\n",
       "      <th>crackles</th>\n",
       "      <th>weezels</th>\n",
       "      <th>pid</th>\n",
       "      <th>mode</th>\n",
       "      <th>filename</th>\n",
       "    </tr>\n",
       "  </thead>\n",
       "  <tbody>\n",
       "    <tr>\n",
       "      <th>0</th>\n",
       "      <td>0.022</td>\n",
       "      <td>0.422</td>\n",
       "      <td>0</td>\n",
       "      <td>0</td>\n",
       "      <td>126</td>\n",
       "      <td>sc</td>\n",
       "      <td>126_1b1_Al_sc_Meditron</td>\n",
       "    </tr>\n",
       "    <tr>\n",
       "      <th>1</th>\n",
       "      <td>0.422</td>\n",
       "      <td>2.136</td>\n",
       "      <td>0</td>\n",
       "      <td>0</td>\n",
       "      <td>126</td>\n",
       "      <td>sc</td>\n",
       "      <td>126_1b1_Al_sc_Meditron</td>\n",
       "    </tr>\n",
       "    <tr>\n",
       "      <th>2</th>\n",
       "      <td>2.136</td>\n",
       "      <td>3.779</td>\n",
       "      <td>0</td>\n",
       "      <td>0</td>\n",
       "      <td>126</td>\n",
       "      <td>sc</td>\n",
       "      <td>126_1b1_Al_sc_Meditron</td>\n",
       "    </tr>\n",
       "    <tr>\n",
       "      <th>3</th>\n",
       "      <td>3.779</td>\n",
       "      <td>5.836</td>\n",
       "      <td>0</td>\n",
       "      <td>0</td>\n",
       "      <td>126</td>\n",
       "      <td>sc</td>\n",
       "      <td>126_1b1_Al_sc_Meditron</td>\n",
       "    </tr>\n",
       "    <tr>\n",
       "      <th>4</th>\n",
       "      <td>5.836</td>\n",
       "      <td>7.850</td>\n",
       "      <td>0</td>\n",
       "      <td>0</td>\n",
       "      <td>126</td>\n",
       "      <td>sc</td>\n",
       "      <td>126_1b1_Al_sc_Meditron</td>\n",
       "    </tr>\n",
       "  </tbody>\n",
       "</table>\n",
       "</div>"
      ],
      "text/plain": [
       "   start    end  crackles  weezels  pid mode                filename\n",
       "0  0.022  0.422         0        0  126   sc  126_1b1_Al_sc_Meditron\n",
       "1  0.422  2.136         0        0  126   sc  126_1b1_Al_sc_Meditron\n",
       "2  2.136  3.779         0        0  126   sc  126_1b1_Al_sc_Meditron\n",
       "3  3.779  5.836         0        0  126   sc  126_1b1_Al_sc_Meditron\n",
       "4  5.836  7.850         0        0  126   sc  126_1b1_Al_sc_Meditron"
      ]
     },
     "execution_count": 6,
     "metadata": {},
     "output_type": "execute_result"
    }
   ],
   "source": [
    "files_data=[]\n",
    "for file in files:\n",
    "    data=pd.read_csv(path + file + '.txt',sep='\\t',names=['start','end','crackles','weezels'])\n",
    "    name_data=getFilenameInfo(file)\n",
    "    data['pid']=name_data[0]\n",
    "    data['mode']=name_data[-2]\n",
    "    data['filename']=file\n",
    "    files_data.append(data)\n",
    "files_df=pd.concat(files_data)\n",
    "files_df.reset_index()\n",
    "files_df.head()"
   ]
  },
  {
   "cell_type": "code",
   "execution_count": 7,
   "metadata": {},
   "outputs": [
    {
     "data": {
      "text/html": [
       "<div>\n",
       "<style scoped>\n",
       "    .dataframe tbody tr th:only-of-type {\n",
       "        vertical-align: middle;\n",
       "    }\n",
       "\n",
       "    .dataframe tbody tr th {\n",
       "        vertical-align: top;\n",
       "    }\n",
       "\n",
       "    .dataframe thead th {\n",
       "        text-align: right;\n",
       "    }\n",
       "</style>\n",
       "<table border=\"1\" class=\"dataframe\">\n",
       "  <thead>\n",
       "    <tr style=\"text-align: right;\">\n",
       "      <th></th>\n",
       "      <th>start</th>\n",
       "      <th>end</th>\n",
       "      <th>crackles</th>\n",
       "      <th>weezels</th>\n",
       "      <th>pid</th>\n",
       "      <th>mode</th>\n",
       "      <th>filename</th>\n",
       "      <th>disease</th>\n",
       "    </tr>\n",
       "  </thead>\n",
       "  <tbody>\n",
       "    <tr>\n",
       "      <th>0</th>\n",
       "      <td>0.022</td>\n",
       "      <td>0.422</td>\n",
       "      <td>0</td>\n",
       "      <td>0</td>\n",
       "      <td>126</td>\n",
       "      <td>sc</td>\n",
       "      <td>126_1b1_Al_sc_Meditron</td>\n",
       "      <td>Healthy</td>\n",
       "    </tr>\n",
       "    <tr>\n",
       "      <th>1</th>\n",
       "      <td>0.422</td>\n",
       "      <td>2.136</td>\n",
       "      <td>0</td>\n",
       "      <td>0</td>\n",
       "      <td>126</td>\n",
       "      <td>sc</td>\n",
       "      <td>126_1b1_Al_sc_Meditron</td>\n",
       "      <td>Healthy</td>\n",
       "    </tr>\n",
       "    <tr>\n",
       "      <th>2</th>\n",
       "      <td>2.136</td>\n",
       "      <td>3.779</td>\n",
       "      <td>0</td>\n",
       "      <td>0</td>\n",
       "      <td>126</td>\n",
       "      <td>sc</td>\n",
       "      <td>126_1b1_Al_sc_Meditron</td>\n",
       "      <td>Healthy</td>\n",
       "    </tr>\n",
       "    <tr>\n",
       "      <th>3</th>\n",
       "      <td>3.779</td>\n",
       "      <td>5.836</td>\n",
       "      <td>0</td>\n",
       "      <td>0</td>\n",
       "      <td>126</td>\n",
       "      <td>sc</td>\n",
       "      <td>126_1b1_Al_sc_Meditron</td>\n",
       "      <td>Healthy</td>\n",
       "    </tr>\n",
       "    <tr>\n",
       "      <th>4</th>\n",
       "      <td>5.836</td>\n",
       "      <td>7.850</td>\n",
       "      <td>0</td>\n",
       "      <td>0</td>\n",
       "      <td>126</td>\n",
       "      <td>sc</td>\n",
       "      <td>126_1b1_Al_sc_Meditron</td>\n",
       "      <td>Healthy</td>\n",
       "    </tr>\n",
       "  </tbody>\n",
       "</table>\n",
       "</div>"
      ],
      "text/plain": [
       "   start    end  crackles  weezels  pid mode                filename  disease\n",
       "0  0.022  0.422         0        0  126   sc  126_1b1_Al_sc_Meditron  Healthy\n",
       "1  0.422  2.136         0        0  126   sc  126_1b1_Al_sc_Meditron  Healthy\n",
       "2  2.136  3.779         0        0  126   sc  126_1b1_Al_sc_Meditron  Healthy\n",
       "3  3.779  5.836         0        0  126   sc  126_1b1_Al_sc_Meditron  Healthy\n",
       "4  5.836  7.850         0        0  126   sc  126_1b1_Al_sc_Meditron  Healthy"
      ]
     },
     "execution_count": 7,
     "metadata": {},
     "output_type": "execute_result"
    }
   ],
   "source": [
    "patient_diag.pid=patient_diag.pid.astype('int32')\n",
    "files_df.pid=files_df.pid.astype('int32')\n",
    "data=pd.merge(files_df,patient_diag,on='pid')\n",
    "data.head()"
   ]
  },
  {
   "cell_type": "code",
   "execution_count": 9,
   "metadata": {},
   "outputs": [],
   "source": [
    "# os.makedirs('csv_data')\n",
    "data.to_csv('csv_data/data.csv',index=False)"
   ]
  },
  {
   "cell_type": "code",
   "execution_count": 10,
   "metadata": {},
   "outputs": [],
   "source": [
    "def getPureSample(raw_data,start,end,sr=22050):\n",
    "    '''\n",
    "    Takes a numpy array and spilts its using start and end args\n",
    "    \n",
    "    raw_data=numpy array of audio sample\n",
    "    start=time\n",
    "    end=time\n",
    "    sr=sampling_rate\n",
    "    mode=mono/stereo\n",
    "    \n",
    "    '''\n",
    "    max_ind = len(raw_data) \n",
    "    start_ind = min(int(start * sr), max_ind)\n",
    "    end_ind = min(int(end * sr), max_ind)\n",
    "    return raw_data[start_ind: end_ind]"
   ]
  },
  {
   "cell_type": "code",
   "execution_count": 11,
   "metadata": {},
   "outputs": [
    {
     "data": {
      "text/plain": [
       "<AxesSubplot:ylabel='pid'>"
      ]
     },
     "execution_count": 11,
     "metadata": {},
     "output_type": "execute_result"
    },
    {
     "data": {
      "image/png": "[encoded data removed]",
      "text/plain": [
       "<Figure size 432x288 with 1 Axes>"
      ]
     },
     "metadata": {
      "needs_background": "light"
     },
     "output_type": "display_data"
    }
   ],
   "source": [
    "sns.scatterplot(x=(data.end-data.start), y=data.pid, )"
   ]
  },
  {
   "cell_type": "code",
   "execution_count": 12,
   "metadata": {},
   "outputs": [
    {
     "data": {
      "text/plain": [
       "<AxesSubplot:>"
      ]
     },
     "execution_count": 12,
     "metadata": {},
     "output_type": "execute_result"
    },
    {
     "data": {
      "image/png": "[encoded data removed]",
      "text/plain": [
       "<Figure size 432x288 with 1 Axes>"
      ]
     },
     "metadata": {
      "needs_background": "light"
     },
     "output_type": "display_data"
    }
   ],
   "source": [
    "sns.boxplot(y=(data.end-data.start))"
   ]
  },
  {
   "cell_type": "code",
   "execution_count": 14,
   "metadata": {},
   "outputs": [
    {
     "name": "stdout",
     "output_type": "stream",
     "text": [
      "Index -> 0\n",
      "Data->\n",
      " start                        0.022\n",
      "end                          0.422\n",
      "crackles                         0\n",
      "weezels                          0\n",
      "pid                            126\n",
      "mode                            sc\n",
      "filename    126_1b1_Al_sc_Meditron\n",
      "disease                    Healthy\n",
      "Name: 0, dtype: object\n"
     ]
    }
   ],
   "source": [
    "# os.makedirs('processed_audio_files')\n",
    "for index,row in data.iterrows():\n",
    "    print(\"Index ->\",index)\n",
    "    print(\"Data->\\n\",row)\n",
    "    break"
   ]
  },
  {
   "cell_type": "code",
   "execution_count": null,
   "metadata": {},
   "outputs": [
    {
     "name": "stderr",
     "output_type": "stream",
     "text": [
      "0it [00:00, ?it/s]<ipython-input-15-926e783b21b8>:33: FutureWarning: Pass size=132300 as keyword args. From version 0.10 passing these as positional arguments will result in an error\n",
      "  padded_data = lb.util.pad_center(pureSample, reqLen)\n",
      "1it [00:00,  2.68it/s]<ipython-input-15-926e783b21b8>:33: FutureWarning: Pass size=132300 as keyword args. From version 0.10 passing these as positional arguments will result in an error\n",
      "  padded_data = lb.util.pad_center(pureSample, reqLen)\n",
      "2it [00:00,  3.45it/s]<ipython-input-15-926e783b21b8>:33: FutureWarning: Pass size=132300 as keyword args. From version 0.10 passing these as positional arguments will result in an error\n",
      "  padded_data = lb.util.pad_center(pureSample, reqLen)\n",
      "3it [00:00,  3.52it/s]<ipython-input-15-926e783b21b8>:33: FutureWarning: Pass size=132300 as keyword args. From version 0.10 passing these as positional arguments will result in an error\n",
      "  padded_data = lb.util.pad_center(pureSample, reqLen)\n",
      "4it [00:01,  3.70it/s]<ipython-input-15-926e783b21b8>:33: FutureWarning: Pass size=132300 as keyword args. From version 0.10 passing these as positional arguments will result in an error\n",
      "  padded_data = lb.util.pad_center(pureSample, reqLen)\n",
      "5it [00:01,  3.86it/s]<ipython-input-15-926e783b21b8>:33: FutureWarning: Pass size=132300 as keyword args. From version 0.10 passing these as positional arguments will result in an error\n",
      "  padded_data = lb.util.pad_center(pureSample, reqLen)\n",
      "6it [00:01,  4.05it/s]<ipython-input-15-926e783b21b8>:33: FutureWarning: Pass size=132300 as keyword args. From version 0.10 passing these as positional arguments will result in an error\n",
      "  padded_data = lb.util.pad_center(pureSample, reqLen)\n",
      "7it [00:01,  4.16it/s]<ipython-input-15-926e783b21b8>:33: FutureWarning: Pass size=132300 as keyword args. From version 0.10 passing these as positional arguments will result in an error\n",
      "  padded_data = lb.util.pad_center(pureSample, reqLen)\n",
      "8it [00:02,  4.23it/s]<ipython-input-15-926e783b21b8>:33: FutureWarning: Pass size=132300 as keyword args. From version 0.10 passing these as positional arguments will result in an error\n",
      "  padded_data = lb.util.pad_center(pureSample, reqLen)\n",
      "9it [00:02,  4.18it/s]<ipython-input-15-926e783b21b8>:33: FutureWarning: Pass size=132300 as keyword args. From version 0.10 passing these as positional arguments will result in an error\n",
      "  padded_data = lb.util.pad_center(pureSample, reqLen)\n",
      "10it [00:02,  4.28it/s]<ipython-input-15-926e783b21b8>:33: FutureWarning: Pass size=132300 as keyword args. From version 0.10 passing these as positional arguments will result in an error\n",
      "  padded_data = lb.util.pad_center(pureSample, reqLen)\n",
      "11it [00:02,  4.33it/s]<ipython-input-15-926e783b21b8>:33: FutureWarning: Pass size=132300 as keyword args. From version 0.10 passing these as positional arguments will result in an error\n",
      "  padded_data = lb.util.pad_center(pureSample, reqLen)\n",
      "12it [00:02,  4.28it/s]<ipython-input-15-926e783b21b8>:33: FutureWarning: Pass size=132300 as keyword args. From version 0.10 passing these as positional arguments will result in an error\n",
      "  padded_data = lb.util.pad_center(pureSample, reqLen)\n",
      "13it [00:03,  4.30it/s]<ipython-input-15-926e783b21b8>:33: FutureWarning: Pass size=132300 as keyword args. From version 0.10 passing these as positional arguments will result in an error\n",
      "  padded_data = lb.util.pad_center(pureSample, reqLen)\n",
      "14it [00:03,  4.02it/s]<ipython-input-15-926e783b21b8>:33: FutureWarning: Pass size=132300 as keyword args. From version 0.10 passing these as positional arguments will result in an error\n",
      "  padded_data = lb.util.pad_center(pureSample, reqLen)\n",
      "15it [00:03,  3.95it/s]<ipython-input-15-926e783b21b8>:33: FutureWarning: Pass size=132300 as keyword args. From version 0.10 passing these as positional arguments will result in an error\n",
      "  padded_data = lb.util.pad_center(pureSample, reqLen)\n",
      "16it [00:04,  3.94it/s]<ipython-input-15-926e783b21b8>:33: FutureWarning: Pass size=132300 as keyword args. From version 0.10 passing these as positional arguments will result in an error\n",
      "  padded_data = lb.util.pad_center(pureSample, reqLen)\n",
      "17it [00:04,  4.07it/s]<ipython-input-15-926e783b21b8>:33: FutureWarning: Pass size=132300 as keyword args. From version 0.10 passing these as positional arguments will result in an error\n",
      "  padded_data = lb.util.pad_center(pureSample, reqLen)\n",
      "18it [00:04,  4.13it/s]<ipython-input-15-926e783b21b8>:33: FutureWarning: Pass size=132300 as keyword args. From version 0.10 passing these as positional arguments will result in an error\n",
      "  padded_data = lb.util.pad_center(pureSample, reqLen)\n",
      "19it [00:04,  4.27it/s]<ipython-input-15-926e783b21b8>:33: FutureWarning: Pass size=132300 as keyword args. From version 0.10 passing these as positional arguments will result in an error\n",
      "  padded_data = lb.util.pad_center(pureSample, reqLen)\n",
      "20it [00:04,  4.24it/s]<ipython-input-15-926e783b21b8>:33: FutureWarning: Pass size=132300 as keyword args. From version 0.10 passing these as positional arguments will result in an error\n",
      "  padded_data = lb.util.pad_center(pureSample, reqLen)\n",
      "21it [00:05,  4.33it/s]<ipython-input-15-926e783b21b8>:33: FutureWarning: Pass size=132300 as keyword args. From version 0.10 passing these as positional arguments will result in an error\n",
      "  padded_data = lb.util.pad_center(pureSample, reqLen)\n",
      "22it [00:05,  4.37it/s]<ipython-input-15-926e783b21b8>:33: FutureWarning: Pass size=132300 as keyword args. From version 0.10 passing these as positional arguments will result in an error\n",
      "  padded_data = lb.util.pad_center(pureSample, reqLen)\n",
      "23it [00:05,  4.35it/s]<ipython-input-15-926e783b21b8>:33: FutureWarning: Pass size=132300 as keyword args. From version 0.10 passing these as positional arguments will result in an error\n",
      "  padded_data = lb.util.pad_center(pureSample, reqLen)\n",
      "24it [00:05,  4.37it/s]<ipython-input-15-926e783b21b8>:33: FutureWarning: Pass size=132300 as keyword args. From version 0.10 passing these as positional arguments will result in an error\n",
      "  padded_data = lb.util.pad_center(pureSample, reqLen)\n",
      "25it [00:06,  4.36it/s]<ipython-input-15-926e783b21b8>:33: FutureWarning: Pass size=132300 as keyword args. From version 0.10 passing these as positional arguments will result in an error\n",
      "  padded_data = lb.util.pad_center(pureSample, reqLen)\n",
      "26it [00:06,  4.20it/s]<ipython-input-15-926e783b21b8>:33: FutureWarning: Pass size=132300 as keyword args. From version 0.10 passing these as positional arguments will result in an error\n",
      "  padded_data = lb.util.pad_center(pureSample, reqLen)\n",
      "27it [00:06,  4.29it/s]<ipython-input-15-926e783b21b8>:33: FutureWarning: Pass size=132300 as keyword args. From version 0.10 passing these as positional arguments will result in an error\n",
      "  padded_data = lb.util.pad_center(pureSample, reqLen)\n",
      "28it [00:06,  4.33it/s]<ipython-input-15-926e783b21b8>:33: FutureWarning: Pass size=132300 as keyword args. From version 0.10 passing these as positional arguments will result in an error\n",
      "  padded_data = lb.util.pad_center(pureSample, reqLen)\n",
      "29it [00:07,  4.27it/s]<ipython-input-15-926e783b21b8>:33: FutureWarning: Pass size=132300 as keyword args. From version 0.10 passing these as positional arguments will result in an error\n",
      "  padded_data = lb.util.pad_center(pureSample, reqLen)\n",
      "30it [00:07,  4.33it/s]<ipython-input-15-926e783b21b8>:33: FutureWarning: Pass size=132300 as keyword args. From version 0.10 passing these as positional arguments will result in an error\n",
      "  padded_data = lb.util.pad_center(pureSample, reqLen)\n",
      "31it [00:07,  4.35it/s]<ipython-input-15-926e783b21b8>:33: FutureWarning: Pass size=132300 as keyword args. From version 0.10 passing these as positional arguments will result in an error\n",
      "  padded_data = lb.util.pad_center(pureSample, reqLen)\n",
      "32it [00:07,  4.39it/s]<ipython-input-15-926e783b21b8>:33: FutureWarning: Pass size=132300 as keyword args. From version 0.10 passing these as positional arguments will result in an error\n",
      "  padded_data = lb.util.pad_center(pureSample, reqLen)\n",
      "33it [00:07,  4.38it/s]<ipython-input-15-926e783b21b8>:33: FutureWarning: Pass size=132300 as keyword args. From version 0.10 passing these as positional arguments will result in an error\n",
      "  padded_data = lb.util.pad_center(pureSample, reqLen)\n"
     ]
    },
    {
     "name": "stderr",
     "output_type": "stream",
     "text": [
      "34it [00:08,  4.32it/s]<ipython-input-15-926e783b21b8>:33: FutureWarning: Pass size=132300 as keyword args. From version 0.10 passing these as positional arguments will result in an error\n",
      "  padded_data = lb.util.pad_center(pureSample, reqLen)\n",
      "35it [00:08,  4.36it/s]<ipython-input-15-926e783b21b8>:33: FutureWarning: Pass size=132300 as keyword args. From version 0.10 passing these as positional arguments will result in an error\n",
      "  padded_data = lb.util.pad_center(pureSample, reqLen)\n",
      "36it [00:08,  4.35it/s]<ipython-input-15-926e783b21b8>:33: FutureWarning: Pass size=132300 as keyword args. From version 0.10 passing these as positional arguments will result in an error\n",
      "  padded_data = lb.util.pad_center(pureSample, reqLen)\n",
      "37it [00:08,  4.16it/s]<ipython-input-15-926e783b21b8>:33: FutureWarning: Pass size=132300 as keyword args. From version 0.10 passing these as positional arguments will result in an error\n",
      "  padded_data = lb.util.pad_center(pureSample, reqLen)\n",
      "38it [00:09,  4.24it/s]<ipython-input-15-926e783b21b8>:33: FutureWarning: Pass size=132300 as keyword args. From version 0.10 passing these as positional arguments will result in an error\n",
      "  padded_data = lb.util.pad_center(pureSample, reqLen)\n",
      "39it [00:09,  4.28it/s]<ipython-input-15-926e783b21b8>:33: FutureWarning: Pass size=132300 as keyword args. From version 0.10 passing these as positional arguments will result in an error\n",
      "  padded_data = lb.util.pad_center(pureSample, reqLen)\n",
      "40it [00:09,  4.20it/s]<ipython-input-15-926e783b21b8>:33: FutureWarning: Pass size=132300 as keyword args. From version 0.10 passing these as positional arguments will result in an error\n",
      "  padded_data = lb.util.pad_center(pureSample, reqLen)\n",
      "41it [00:09,  4.18it/s]<ipython-input-15-926e783b21b8>:33: FutureWarning: Pass size=132300 as keyword args. From version 0.10 passing these as positional arguments will result in an error\n",
      "  padded_data = lb.util.pad_center(pureSample, reqLen)\n",
      "42it [00:10,  4.15it/s]<ipython-input-15-926e783b21b8>:33: FutureWarning: Pass size=132300 as keyword args. From version 0.10 passing these as positional arguments will result in an error\n",
      "  padded_data = lb.util.pad_center(pureSample, reqLen)\n",
      "43it [00:10,  4.20it/s]<ipython-input-15-926e783b21b8>:33: FutureWarning: Pass size=132300 as keyword args. From version 0.10 passing these as positional arguments will result in an error\n",
      "  padded_data = lb.util.pad_center(pureSample, reqLen)\n",
      "44it [00:10,  4.15it/s]<ipython-input-15-926e783b21b8>:33: FutureWarning: Pass size=132300 as keyword args. From version 0.10 passing these as positional arguments will result in an error\n",
      "  padded_data = lb.util.pad_center(pureSample, reqLen)\n",
      "45it [00:10,  4.16it/s]<ipython-input-15-926e783b21b8>:33: FutureWarning: Pass size=132300 as keyword args. From version 0.10 passing these as positional arguments will result in an error\n",
      "  padded_data = lb.util.pad_center(pureSample, reqLen)\n",
      "46it [00:11,  4.23it/s]<ipython-input-15-926e783b21b8>:33: FutureWarning: Pass size=132300 as keyword args. From version 0.10 passing these as positional arguments will result in an error\n",
      "  padded_data = lb.util.pad_center(pureSample, reqLen)\n",
      "47it [00:11,  4.26it/s]<ipython-input-15-926e783b21b8>:33: FutureWarning: Pass size=132300 as keyword args. From version 0.10 passing these as positional arguments will result in an error\n",
      "  padded_data = lb.util.pad_center(pureSample, reqLen)\n",
      "48it [00:11,  4.18it/s]<ipython-input-15-926e783b21b8>:33: FutureWarning: Pass size=132300 as keyword args. From version 0.10 passing these as positional arguments will result in an error\n",
      "  padded_data = lb.util.pad_center(pureSample, reqLen)\n",
      "49it [00:11,  4.16it/s]<ipython-input-15-926e783b21b8>:33: FutureWarning: Pass size=132300 as keyword args. From version 0.10 passing these as positional arguments will result in an error\n",
      "  padded_data = lb.util.pad_center(pureSample, reqLen)\n",
      "50it [00:11,  4.17it/s]<ipython-input-15-926e783b21b8>:33: FutureWarning: Pass size=132300 as keyword args. From version 0.10 passing these as positional arguments will result in an error\n",
      "  padded_data = lb.util.pad_center(pureSample, reqLen)\n",
      "51it [00:12,  4.23it/s]<ipython-input-15-926e783b21b8>:33: FutureWarning: Pass size=132300 as keyword args. From version 0.10 passing these as positional arguments will result in an error\n",
      "  padded_data = lb.util.pad_center(pureSample, reqLen)\n",
      "52it [00:12,  4.28it/s]<ipython-input-15-926e783b21b8>:33: FutureWarning: Pass size=132300 as keyword args. From version 0.10 passing these as positional arguments will result in an error\n",
      "  padded_data = lb.util.pad_center(pureSample, reqLen)\n",
      "53it [00:12,  4.27it/s]<ipython-input-15-926e783b21b8>:33: FutureWarning: Pass size=132300 as keyword args. From version 0.10 passing these as positional arguments will result in an error\n",
      "  padded_data = lb.util.pad_center(pureSample, reqLen)\n",
      "54it [00:12,  4.16it/s]<ipython-input-15-926e783b21b8>:33: FutureWarning: Pass size=132300 as keyword args. From version 0.10 passing these as positional arguments will result in an error\n",
      "  padded_data = lb.util.pad_center(pureSample, reqLen)\n",
      "55it [00:13,  4.10it/s]<ipython-input-15-926e783b21b8>:33: FutureWarning: Pass size=132300 as keyword args. From version 0.10 passing these as positional arguments will result in an error\n",
      "  padded_data = lb.util.pad_center(pureSample, reqLen)\n",
      "56it [00:13,  4.13it/s]<ipython-input-15-926e783b21b8>:33: FutureWarning: Pass size=132300 as keyword args. From version 0.10 passing these as positional arguments will result in an error\n",
      "  padded_data = lb.util.pad_center(pureSample, reqLen)\n",
      "57it [00:13,  4.14it/s]<ipython-input-15-926e783b21b8>:33: FutureWarning: Pass size=132300 as keyword args. From version 0.10 passing these as positional arguments will result in an error\n",
      "  padded_data = lb.util.pad_center(pureSample, reqLen)\n",
      "58it [00:13,  4.09it/s]<ipython-input-15-926e783b21b8>:33: FutureWarning: Pass size=132300 as keyword args. From version 0.10 passing these as positional arguments will result in an error\n",
      "  padded_data = lb.util.pad_center(pureSample, reqLen)\n",
      "59it [00:14,  4.07it/s]<ipython-input-15-926e783b21b8>:33: FutureWarning: Pass size=132300 as keyword args. From version 0.10 passing these as positional arguments will result in an error\n",
      "  padded_data = lb.util.pad_center(pureSample, reqLen)\n",
      "60it [00:14,  4.11it/s]<ipython-input-15-926e783b21b8>:33: FutureWarning: Pass size=132300 as keyword args. From version 0.10 passing these as positional arguments will result in an error\n",
      "  padded_data = lb.util.pad_center(pureSample, reqLen)\n",
      "61it [00:14,  4.22it/s]<ipython-input-15-926e783b21b8>:33: FutureWarning: Pass size=132300 as keyword args. From version 0.10 passing these as positional arguments will result in an error\n",
      "  padded_data = lb.util.pad_center(pureSample, reqLen)\n",
      "62it [00:14,  4.29it/s]<ipython-input-15-926e783b21b8>:33: FutureWarning: Pass size=132300 as keyword args. From version 0.10 passing these as positional arguments will result in an error\n",
      "  padded_data = lb.util.pad_center(pureSample, reqLen)\n",
      "63it [00:15,  4.09it/s]<ipython-input-15-926e783b21b8>:33: FutureWarning: Pass size=132300 as keyword args. From version 0.10 passing these as positional arguments will result in an error\n",
      "  padded_data = lb.util.pad_center(pureSample, reqLen)\n",
      "64it [00:15,  4.19it/s]<ipython-input-15-926e783b21b8>:33: FutureWarning: Pass size=132300 as keyword args. From version 0.10 passing these as positional arguments will result in an error\n",
      "  padded_data = lb.util.pad_center(pureSample, reqLen)\n",
      "65it [00:15,  3.52it/s]<ipython-input-15-926e783b21b8>:33: FutureWarning: Pass size=132300 as keyword args. From version 0.10 passing these as positional arguments will result in an error\n",
      "  padded_data = lb.util.pad_center(pureSample, reqLen)\n",
      "66it [00:15,  3.71it/s]<ipython-input-15-926e783b21b8>:33: FutureWarning: Pass size=132300 as keyword args. From version 0.10 passing these as positional arguments will result in an error\n",
      "  padded_data = lb.util.pad_center(pureSample, reqLen)\n",
      "67it [00:16,  3.92it/s]<ipython-input-15-926e783b21b8>:33: FutureWarning: Pass size=132300 as keyword args. From version 0.10 passing these as positional arguments will result in an error\n",
      "  padded_data = lb.util.pad_center(pureSample, reqLen)\n"
     ]
    },
    {
     "name": "stderr",
     "output_type": "stream",
     "text": [
      "68it [00:16,  3.93it/s]<ipython-input-15-926e783b21b8>:33: FutureWarning: Pass size=132300 as keyword args. From version 0.10 passing these as positional arguments will result in an error\n",
      "  padded_data = lb.util.pad_center(pureSample, reqLen)\n",
      "69it [00:16,  3.99it/s]<ipython-input-15-926e783b21b8>:33: FutureWarning: Pass size=132300 as keyword args. From version 0.10 passing these as positional arguments will result in an error\n",
      "  padded_data = lb.util.pad_center(pureSample, reqLen)\n",
      "70it [00:16,  4.15it/s]<ipython-input-15-926e783b21b8>:33: FutureWarning: Pass size=132300 as keyword args. From version 0.10 passing these as positional arguments will result in an error\n",
      "  padded_data = lb.util.pad_center(pureSample, reqLen)\n",
      "71it [00:17,  4.16it/s]<ipython-input-15-926e783b21b8>:33: FutureWarning: Pass size=132300 as keyword args. From version 0.10 passing these as positional arguments will result in an error\n",
      "  padded_data = lb.util.pad_center(pureSample, reqLen)\n",
      "72it [00:17,  4.26it/s]<ipython-input-15-926e783b21b8>:33: FutureWarning: Pass size=132300 as keyword args. From version 0.10 passing these as positional arguments will result in an error\n",
      "  padded_data = lb.util.pad_center(pureSample, reqLen)\n",
      "73it [00:17,  4.29it/s]<ipython-input-15-926e783b21b8>:33: FutureWarning: Pass size=132300 as keyword args. From version 0.10 passing these as positional arguments will result in an error\n",
      "  padded_data = lb.util.pad_center(pureSample, reqLen)\n",
      "74it [00:17,  4.34it/s]<ipython-input-15-926e783b21b8>:33: FutureWarning: Pass size=132300 as keyword args. From version 0.10 passing these as positional arguments will result in an error\n",
      "  padded_data = lb.util.pad_center(pureSample, reqLen)\n",
      "75it [00:18,  4.30it/s]<ipython-input-15-926e783b21b8>:33: FutureWarning: Pass size=132300 as keyword args. From version 0.10 passing these as positional arguments will result in an error\n",
      "  padded_data = lb.util.pad_center(pureSample, reqLen)\n",
      "76it [00:18,  4.40it/s]<ipython-input-15-926e783b21b8>:33: FutureWarning: Pass size=132300 as keyword args. From version 0.10 passing these as positional arguments will result in an error\n",
      "  padded_data = lb.util.pad_center(pureSample, reqLen)\n",
      "77it [00:18,  4.44it/s]<ipython-input-15-926e783b21b8>:33: FutureWarning: Pass size=132300 as keyword args. From version 0.10 passing these as positional arguments will result in an error\n",
      "  padded_data = lb.util.pad_center(pureSample, reqLen)\n",
      "78it [00:18,  4.49it/s]<ipython-input-15-926e783b21b8>:33: FutureWarning: Pass size=132300 as keyword args. From version 0.10 passing these as positional arguments will result in an error\n",
      "  padded_data = lb.util.pad_center(pureSample, reqLen)\n",
      "79it [00:18,  4.54it/s]<ipython-input-15-926e783b21b8>:33: FutureWarning: Pass size=132300 as keyword args. From version 0.10 passing these as positional arguments will result in an error\n",
      "  padded_data = lb.util.pad_center(pureSample, reqLen)\n",
      "80it [00:19,  4.35it/s]<ipython-input-15-926e783b21b8>:33: FutureWarning: Pass size=132300 as keyword args. From version 0.10 passing these as positional arguments will result in an error\n",
      "  padded_data = lb.util.pad_center(pureSample, reqLen)\n",
      "81it [00:19,  4.18it/s]<ipython-input-15-926e783b21b8>:33: FutureWarning: Pass size=132300 as keyword args. From version 0.10 passing these as positional arguments will result in an error\n",
      "  padded_data = lb.util.pad_center(pureSample, reqLen)\n",
      "82it [00:19,  4.24it/s]<ipython-input-15-926e783b21b8>:33: FutureWarning: Pass size=132300 as keyword args. From version 0.10 passing these as positional arguments will result in an error\n",
      "  padded_data = lb.util.pad_center(pureSample, reqLen)\n",
      "83it [00:19,  4.32it/s]<ipython-input-15-926e783b21b8>:33: FutureWarning: Pass size=132300 as keyword args. From version 0.10 passing these as positional arguments will result in an error\n",
      "  padded_data = lb.util.pad_center(pureSample, reqLen)\n",
      "84it [00:20,  4.37it/s]<ipython-input-15-926e783b21b8>:33: FutureWarning: Pass size=132300 as keyword args. From version 0.10 passing these as positional arguments will result in an error\n",
      "  padded_data = lb.util.pad_center(pureSample, reqLen)\n",
      "85it [00:20,  4.41it/s]<ipython-input-15-926e783b21b8>:33: FutureWarning: Pass size=132300 as keyword args. From version 0.10 passing these as positional arguments will result in an error\n",
      "  padded_data = lb.util.pad_center(pureSample, reqLen)\n",
      "86it [00:20,  4.48it/s]<ipython-input-15-926e783b21b8>:33: FutureWarning: Pass size=132300 as keyword args. From version 0.10 passing these as positional arguments will result in an error\n",
      "  padded_data = lb.util.pad_center(pureSample, reqLen)\n",
      "87it [00:20,  4.44it/s]<ipython-input-15-926e783b21b8>:33: FutureWarning: Pass size=132300 as keyword args. From version 0.10 passing these as positional arguments will result in an error\n",
      "  padded_data = lb.util.pad_center(pureSample, reqLen)\n",
      "88it [00:20,  4.48it/s]<ipython-input-15-926e783b21b8>:33: FutureWarning: Pass size=132300 as keyword args. From version 0.10 passing these as positional arguments will result in an error\n",
      "  padded_data = lb.util.pad_center(pureSample, reqLen)\n",
      "89it [00:21,  4.47it/s]<ipython-input-15-926e783b21b8>:33: FutureWarning: Pass size=132300 as keyword args. From version 0.10 passing these as positional arguments will result in an error\n",
      "  padded_data = lb.util.pad_center(pureSample, reqLen)\n",
      "90it [00:21,  4.35it/s]<ipython-input-15-926e783b21b8>:33: FutureWarning: Pass size=132300 as keyword args. From version 0.10 passing these as positional arguments will result in an error\n",
      "  padded_data = lb.util.pad_center(pureSample, reqLen)\n",
      "91it [00:21,  4.37it/s]<ipython-input-15-926e783b21b8>:33: FutureWarning: Pass size=132300 as keyword args. From version 0.10 passing these as positional arguments will result in an error\n",
      "  padded_data = lb.util.pad_center(pureSample, reqLen)\n",
      "92it [00:21,  4.35it/s]<ipython-input-15-926e783b21b8>:33: FutureWarning: Pass size=132300 as keyword args. From version 0.10 passing these as positional arguments will result in an error\n",
      "  padded_data = lb.util.pad_center(pureSample, reqLen)\n",
      "93it [00:22,  4.30it/s]<ipython-input-15-926e783b21b8>:33: FutureWarning: Pass size=132300 as keyword args. From version 0.10 passing these as positional arguments will result in an error\n",
      "  padded_data = lb.util.pad_center(pureSample, reqLen)\n",
      "94it [00:22,  4.37it/s]<ipython-input-15-926e783b21b8>:33: FutureWarning: Pass size=132300 as keyword args. From version 0.10 passing these as positional arguments will result in an error\n",
      "  padded_data = lb.util.pad_center(pureSample, reqLen)\n",
      "95it [00:22,  4.38it/s]<ipython-input-15-926e783b21b8>:33: FutureWarning: Pass size=132300 as keyword args. From version 0.10 passing these as positional arguments will result in an error\n",
      "  padded_data = lb.util.pad_center(pureSample, reqLen)\n",
      "96it [00:22,  4.32it/s]<ipython-input-15-926e783b21b8>:33: FutureWarning: Pass size=132300 as keyword args. From version 0.10 passing these as positional arguments will result in an error\n",
      "  padded_data = lb.util.pad_center(pureSample, reqLen)\n",
      "97it [00:23,  4.34it/s]<ipython-input-15-926e783b21b8>:33: FutureWarning: Pass size=132300 as keyword args. From version 0.10 passing these as positional arguments will result in an error\n",
      "  padded_data = lb.util.pad_center(pureSample, reqLen)\n",
      "98it [00:23,  4.42it/s]<ipython-input-15-926e783b21b8>:33: FutureWarning: Pass size=132300 as keyword args. From version 0.10 passing these as positional arguments will result in an error\n",
      "  padded_data = lb.util.pad_center(pureSample, reqLen)\n",
      "99it [00:23,  4.50it/s]<ipython-input-15-926e783b21b8>:33: FutureWarning: Pass size=132300 as keyword args. From version 0.10 passing these as positional arguments will result in an error\n",
      "  padded_data = lb.util.pad_center(pureSample, reqLen)\n",
      "100it [00:23,  4.46it/s]<ipython-input-15-926e783b21b8>:33: FutureWarning: Pass size=132300 as keyword args. From version 0.10 passing these as positional arguments will result in an error\n",
      "  padded_data = lb.util.pad_center(pureSample, reqLen)\n",
      "101it [00:23,  4.42it/s]<ipython-input-15-926e783b21b8>:33: FutureWarning: Pass size=132300 as keyword args. From version 0.10 passing these as positional arguments will result in an error\n",
      "  padded_data = lb.util.pad_center(pureSample, reqLen)\n"
     ]
    },
    {
     "name": "stderr",
     "output_type": "stream",
     "text": [
      "102it [00:24,  4.46it/s]<ipython-input-15-926e783b21b8>:33: FutureWarning: Pass size=132300 as keyword args. From version 0.10 passing these as positional arguments will result in an error\n",
      "  padded_data = lb.util.pad_center(pureSample, reqLen)\n",
      "103it [00:24,  4.43it/s]<ipython-input-15-926e783b21b8>:33: FutureWarning: Pass size=132300 as keyword args. From version 0.10 passing these as positional arguments will result in an error\n",
      "  padded_data = lb.util.pad_center(pureSample, reqLen)\n",
      "104it [00:24,  4.41it/s]<ipython-input-15-926e783b21b8>:33: FutureWarning: Pass size=132300 as keyword args. From version 0.10 passing these as positional arguments will result in an error\n",
      "  padded_data = lb.util.pad_center(pureSample, reqLen)\n",
      "105it [00:24,  4.39it/s]<ipython-input-15-926e783b21b8>:33: FutureWarning: Pass size=132300 as keyword args. From version 0.10 passing these as positional arguments will result in an error\n",
      "  padded_data = lb.util.pad_center(pureSample, reqLen)\n",
      "106it [00:25,  4.43it/s]<ipython-input-15-926e783b21b8>:33: FutureWarning: Pass size=132300 as keyword args. From version 0.10 passing these as positional arguments will result in an error\n",
      "  padded_data = lb.util.pad_center(pureSample, reqLen)\n",
      "107it [00:25,  4.43it/s]<ipython-input-15-926e783b21b8>:33: FutureWarning: Pass size=132300 as keyword args. From version 0.10 passing these as positional arguments will result in an error\n",
      "  padded_data = lb.util.pad_center(pureSample, reqLen)\n",
      "108it [00:25,  4.45it/s]<ipython-input-15-926e783b21b8>:33: FutureWarning: Pass size=132300 as keyword args. From version 0.10 passing these as positional arguments will result in an error\n",
      "  padded_data = lb.util.pad_center(pureSample, reqLen)\n",
      "109it [00:25,  4.44it/s]<ipython-input-15-926e783b21b8>:33: FutureWarning: Pass size=132300 as keyword args. From version 0.10 passing these as positional arguments will result in an error\n",
      "  padded_data = lb.util.pad_center(pureSample, reqLen)\n",
      "110it [00:25,  4.48it/s]<ipython-input-15-926e783b21b8>:33: FutureWarning: Pass size=132300 as keyword args. From version 0.10 passing these as positional arguments will result in an error\n",
      "  padded_data = lb.util.pad_center(pureSample, reqLen)\n",
      "111it [00:26,  4.42it/s]<ipython-input-15-926e783b21b8>:33: FutureWarning: Pass size=132300 as keyword args. From version 0.10 passing these as positional arguments will result in an error\n",
      "  padded_data = lb.util.pad_center(pureSample, reqLen)\n",
      "112it [00:26,  4.45it/s]<ipython-input-15-926e783b21b8>:33: FutureWarning: Pass size=132300 as keyword args. From version 0.10 passing these as positional arguments will result in an error\n",
      "  padded_data = lb.util.pad_center(pureSample, reqLen)\n",
      "113it [00:26,  4.46it/s]<ipython-input-15-926e783b21b8>:33: FutureWarning: Pass size=132300 as keyword args. From version 0.10 passing these as positional arguments will result in an error\n",
      "  padded_data = lb.util.pad_center(pureSample, reqLen)\n",
      "114it [00:26,  4.54it/s]<ipython-input-15-926e783b21b8>:33: FutureWarning: Pass size=132300 as keyword args. From version 0.10 passing these as positional arguments will result in an error\n",
      "  padded_data = lb.util.pad_center(pureSample, reqLen)\n",
      "115it [00:27,  4.57it/s]<ipython-input-15-926e783b21b8>:33: FutureWarning: Pass size=132300 as keyword args. From version 0.10 passing these as positional arguments will result in an error\n",
      "  padded_data = lb.util.pad_center(pureSample, reqLen)\n",
      "116it [00:27,  4.53it/s]<ipython-input-15-926e783b21b8>:33: FutureWarning: Pass size=132300 as keyword args. From version 0.10 passing these as positional arguments will result in an error\n",
      "  padded_data = lb.util.pad_center(pureSample, reqLen)\n",
      "117it [00:27,  4.54it/s]<ipython-input-15-926e783b21b8>:33: FutureWarning: Pass size=132300 as keyword args. From version 0.10 passing these as positional arguments will result in an error\n",
      "  padded_data = lb.util.pad_center(pureSample, reqLen)\n",
      "118it [00:27,  4.51it/s]<ipython-input-15-926e783b21b8>:33: FutureWarning: Pass size=132300 as keyword args. From version 0.10 passing these as positional arguments will result in an error\n",
      "  padded_data = lb.util.pad_center(pureSample, reqLen)\n",
      "119it [00:27,  4.55it/s]<ipython-input-15-926e783b21b8>:33: FutureWarning: Pass size=132300 as keyword args. From version 0.10 passing these as positional arguments will result in an error\n",
      "  padded_data = lb.util.pad_center(pureSample, reqLen)\n",
      "120it [00:28,  4.57it/s]<ipython-input-15-926e783b21b8>:33: FutureWarning: Pass size=132300 as keyword args. From version 0.10 passing these as positional arguments will result in an error\n",
      "  padded_data = lb.util.pad_center(pureSample, reqLen)\n",
      "121it [00:28,  4.54it/s]<ipython-input-15-926e783b21b8>:33: FutureWarning: Pass size=132300 as keyword args. From version 0.10 passing these as positional arguments will result in an error\n",
      "  padded_data = lb.util.pad_center(pureSample, reqLen)\n",
      "122it [00:28,  4.54it/s]<ipython-input-15-926e783b21b8>:33: FutureWarning: Pass size=132300 as keyword args. From version 0.10 passing these as positional arguments will result in an error\n",
      "  padded_data = lb.util.pad_center(pureSample, reqLen)\n",
      "123it [00:28,  4.56it/s]<ipython-input-15-926e783b21b8>:33: FutureWarning: Pass size=132300 as keyword args. From version 0.10 passing these as positional arguments will result in an error\n",
      "  padded_data = lb.util.pad_center(pureSample, reqLen)\n",
      "124it [00:29,  4.55it/s]<ipython-input-15-926e783b21b8>:33: FutureWarning: Pass size=132300 as keyword args. From version 0.10 passing these as positional arguments will result in an error\n",
      "  padded_data = lb.util.pad_center(pureSample, reqLen)\n",
      "125it [00:29,  4.59it/s]<ipython-input-15-926e783b21b8>:33: FutureWarning: Pass size=132300 as keyword args. From version 0.10 passing these as positional arguments will result in an error\n",
      "  padded_data = lb.util.pad_center(pureSample, reqLen)\n",
      "126it [00:29,  4.60it/s]<ipython-input-15-926e783b21b8>:33: FutureWarning: Pass size=132300 as keyword args. From version 0.10 passing these as positional arguments will result in an error\n",
      "  padded_data = lb.util.pad_center(pureSample, reqLen)\n",
      "127it [00:29,  4.57it/s]<ipython-input-15-926e783b21b8>:33: FutureWarning: Pass size=132300 as keyword args. From version 0.10 passing these as positional arguments will result in an error\n",
      "  padded_data = lb.util.pad_center(pureSample, reqLen)\n",
      "128it [00:29,  4.33it/s]<ipython-input-15-926e783b21b8>:33: FutureWarning: Pass size=132300 as keyword args. From version 0.10 passing these as positional arguments will result in an error\n",
      "  padded_data = lb.util.pad_center(pureSample, reqLen)\n",
      "129it [00:30,  4.34it/s]<ipython-input-15-926e783b21b8>:33: FutureWarning: Pass size=132300 as keyword args. From version 0.10 passing these as positional arguments will result in an error\n",
      "  padded_data = lb.util.pad_center(pureSample, reqLen)\n",
      "130it [00:30,  4.41it/s]<ipython-input-15-926e783b21b8>:33: FutureWarning: Pass size=132300 as keyword args. From version 0.10 passing these as positional arguments will result in an error\n",
      "  padded_data = lb.util.pad_center(pureSample, reqLen)\n",
      "131it [00:30,  4.52it/s]<ipython-input-15-926e783b21b8>:33: FutureWarning: Pass size=132300 as keyword args. From version 0.10 passing these as positional arguments will result in an error\n",
      "  padded_data = lb.util.pad_center(pureSample, reqLen)\n",
      "132it [00:30,  4.53it/s]<ipython-input-15-926e783b21b8>:33: FutureWarning: Pass size=132300 as keyword args. From version 0.10 passing these as positional arguments will result in an error\n",
      "  padded_data = lb.util.pad_center(pureSample, reqLen)\n",
      "133it [00:31,  4.52it/s]<ipython-input-15-926e783b21b8>:33: FutureWarning: Pass size=132300 as keyword args. From version 0.10 passing these as positional arguments will result in an error\n",
      "  padded_data = lb.util.pad_center(pureSample, reqLen)\n",
      "134it [00:31,  4.43it/s]<ipython-input-15-926e783b21b8>:33: FutureWarning: Pass size=132300 as keyword args. From version 0.10 passing these as positional arguments will result in an error\n",
      "  padded_data = lb.util.pad_center(pureSample, reqLen)\n",
      "135it [00:31,  4.42it/s]<ipython-input-15-926e783b21b8>:33: FutureWarning: Pass size=132300 as keyword args. From version 0.10 passing these as positional arguments will result in an error\n",
      "  padded_data = lb.util.pad_center(pureSample, reqLen)\n"
     ]
    },
    {
     "name": "stderr",
     "output_type": "stream",
     "text": [
      "136it [00:31,  4.44it/s]<ipython-input-15-926e783b21b8>:33: FutureWarning: Pass size=132300 as keyword args. From version 0.10 passing these as positional arguments will result in an error\n",
      "  padded_data = lb.util.pad_center(pureSample, reqLen)\n",
      "137it [00:31,  4.43it/s]<ipython-input-15-926e783b21b8>:33: FutureWarning: Pass size=132300 as keyword args. From version 0.10 passing these as positional arguments will result in an error\n",
      "  padded_data = lb.util.pad_center(pureSample, reqLen)\n",
      "138it [00:32,  4.36it/s]<ipython-input-15-926e783b21b8>:33: FutureWarning: Pass size=132300 as keyword args. From version 0.10 passing these as positional arguments will result in an error\n",
      "  padded_data = lb.util.pad_center(pureSample, reqLen)\n",
      "139it [00:32,  4.36it/s]<ipython-input-15-926e783b21b8>:33: FutureWarning: Pass size=132300 as keyword args. From version 0.10 passing these as positional arguments will result in an error\n",
      "  padded_data = lb.util.pad_center(pureSample, reqLen)\n",
      "140it [00:32,  4.42it/s]<ipython-input-15-926e783b21b8>:33: FutureWarning: Pass size=132300 as keyword args. From version 0.10 passing these as positional arguments will result in an error\n",
      "  padded_data = lb.util.pad_center(pureSample, reqLen)\n",
      "141it [00:32,  4.46it/s]<ipython-input-15-926e783b21b8>:33: FutureWarning: Pass size=132300 as keyword args. From version 0.10 passing these as positional arguments will result in an error\n",
      "  padded_data = lb.util.pad_center(pureSample, reqLen)\n",
      "142it [00:33,  4.47it/s]<ipython-input-15-926e783b21b8>:33: FutureWarning: Pass size=132300 as keyword args. From version 0.10 passing these as positional arguments will result in an error\n",
      "  padded_data = lb.util.pad_center(pureSample, reqLen)\n",
      "143it [00:33,  4.49it/s]<ipython-input-15-926e783b21b8>:33: FutureWarning: Pass size=132300 as keyword args. From version 0.10 passing these as positional arguments will result in an error\n",
      "  padded_data = lb.util.pad_center(pureSample, reqLen)\n",
      "144it [00:33,  4.51it/s]<ipython-input-15-926e783b21b8>:33: FutureWarning: Pass size=132300 as keyword args. From version 0.10 passing these as positional arguments will result in an error\n",
      "  padded_data = lb.util.pad_center(pureSample, reqLen)\n",
      "145it [00:33,  4.54it/s]<ipython-input-15-926e783b21b8>:33: FutureWarning: Pass size=132300 as keyword args. From version 0.10 passing these as positional arguments will result in an error\n",
      "  padded_data = lb.util.pad_center(pureSample, reqLen)\n",
      "146it [00:33,  4.58it/s]<ipython-input-15-926e783b21b8>:33: FutureWarning: Pass size=132300 as keyword args. From version 0.10 passing these as positional arguments will result in an error\n",
      "  padded_data = lb.util.pad_center(pureSample, reqLen)\n",
      "147it [00:34,  4.55it/s]<ipython-input-15-926e783b21b8>:33: FutureWarning: Pass size=132300 as keyword args. From version 0.10 passing these as positional arguments will result in an error\n",
      "  padded_data = lb.util.pad_center(pureSample, reqLen)\n",
      "148it [00:34,  4.57it/s]<ipython-input-15-926e783b21b8>:33: FutureWarning: Pass size=132300 as keyword args. From version 0.10 passing these as positional arguments will result in an error\n",
      "  padded_data = lb.util.pad_center(pureSample, reqLen)\n",
      "149it [00:34,  4.58it/s]<ipython-input-15-926e783b21b8>:33: FutureWarning: Pass size=132300 as keyword args. From version 0.10 passing these as positional arguments will result in an error\n",
      "  padded_data = lb.util.pad_center(pureSample, reqLen)\n",
      "150it [00:34,  4.51it/s]<ipython-input-15-926e783b21b8>:33: FutureWarning: Pass size=132300 as keyword args. From version 0.10 passing these as positional arguments will result in an error\n",
      "  padded_data = lb.util.pad_center(pureSample, reqLen)\n",
      "151it [00:35,  4.25it/s]<ipython-input-15-926e783b21b8>:33: FutureWarning: Pass size=132300 as keyword args. From version 0.10 passing these as positional arguments will result in an error\n",
      "  padded_data = lb.util.pad_center(pureSample, reqLen)\n",
      "152it [00:35,  4.34it/s]<ipython-input-15-926e783b21b8>:33: FutureWarning: Pass size=132300 as keyword args. From version 0.10 passing these as positional arguments will result in an error\n",
      "  padded_data = lb.util.pad_center(pureSample, reqLen)\n",
      "153it [00:35,  4.34it/s]<ipython-input-15-926e783b21b8>:33: FutureWarning: Pass size=132300 as keyword args. From version 0.10 passing these as positional arguments will result in an error\n",
      "  padded_data = lb.util.pad_center(pureSample, reqLen)\n",
      "154it [00:35,  4.31it/s]<ipython-input-15-926e783b21b8>:33: FutureWarning: Pass size=132300 as keyword args. From version 0.10 passing these as positional arguments will result in an error\n",
      "  padded_data = lb.util.pad_center(pureSample, reqLen)\n",
      "155it [00:36,  4.38it/s]<ipython-input-15-926e783b21b8>:33: FutureWarning: Pass size=132300 as keyword args. From version 0.10 passing these as positional arguments will result in an error\n",
      "  padded_data = lb.util.pad_center(pureSample, reqLen)\n",
      "156it [00:36,  4.36it/s]<ipython-input-15-926e783b21b8>:33: FutureWarning: Pass size=132300 as keyword args. From version 0.10 passing these as positional arguments will result in an error\n",
      "  padded_data = lb.util.pad_center(pureSample, reqLen)\n",
      "157it [00:36,  4.37it/s]<ipython-input-15-926e783b21b8>:33: FutureWarning: Pass size=132300 as keyword args. From version 0.10 passing these as positional arguments will result in an error\n",
      "  padded_data = lb.util.pad_center(pureSample, reqLen)\n",
      "158it [00:36,  4.33it/s]<ipython-input-15-926e783b21b8>:33: FutureWarning: Pass size=132300 as keyword args. From version 0.10 passing these as positional arguments will result in an error\n",
      "  padded_data = lb.util.pad_center(pureSample, reqLen)\n",
      "159it [00:36,  4.36it/s]<ipython-input-15-926e783b21b8>:33: FutureWarning: Pass size=132300 as keyword args. From version 0.10 passing these as positional arguments will result in an error\n",
      "  padded_data = lb.util.pad_center(pureSample, reqLen)\n",
      "160it [00:37,  4.43it/s]<ipython-input-15-926e783b21b8>:33: FutureWarning: Pass size=132300 as keyword args. From version 0.10 passing these as positional arguments will result in an error\n",
      "  padded_data = lb.util.pad_center(pureSample, reqLen)\n",
      "161it [00:37,  4.41it/s]<ipython-input-15-926e783b21b8>:33: FutureWarning: Pass size=132300 as keyword args. From version 0.10 passing these as positional arguments will result in an error\n",
      "  padded_data = lb.util.pad_center(pureSample, reqLen)\n",
      "162it [00:37,  4.53it/s]<ipython-input-15-926e783b21b8>:33: FutureWarning: Pass size=132300 as keyword args. From version 0.10 passing these as positional arguments will result in an error\n",
      "  padded_data = lb.util.pad_center(pureSample, reqLen)\n",
      "163it [00:37,  4.52it/s]<ipython-input-15-926e783b21b8>:33: FutureWarning: Pass size=132300 as keyword args. From version 0.10 passing these as positional arguments will result in an error\n",
      "  padded_data = lb.util.pad_center(pureSample, reqLen)\n",
      "164it [00:38,  4.54it/s]<ipython-input-15-926e783b21b8>:33: FutureWarning: Pass size=132300 as keyword args. From version 0.10 passing these as positional arguments will result in an error\n",
      "  padded_data = lb.util.pad_center(pureSample, reqLen)\n",
      "165it [00:38,  4.52it/s]<ipython-input-15-926e783b21b8>:33: FutureWarning: Pass size=132300 as keyword args. From version 0.10 passing these as positional arguments will result in an error\n",
      "  padded_data = lb.util.pad_center(pureSample, reqLen)\n",
      "166it [00:38,  4.57it/s]<ipython-input-15-926e783b21b8>:33: FutureWarning: Pass size=132300 as keyword args. From version 0.10 passing these as positional arguments will result in an error\n",
      "  padded_data = lb.util.pad_center(pureSample, reqLen)\n",
      "167it [00:38,  4.57it/s]<ipython-input-15-926e783b21b8>:33: FutureWarning: Pass size=132300 as keyword args. From version 0.10 passing these as positional arguments will result in an error\n",
      "  padded_data = lb.util.pad_center(pureSample, reqLen)\n",
      "168it [00:38,  4.54it/s]<ipython-input-15-926e783b21b8>:33: FutureWarning: Pass size=132300 as keyword args. From version 0.10 passing these as positional arguments will result in an error\n",
      "  padded_data = lb.util.pad_center(pureSample, reqLen)\n",
      "169it [00:39,  4.44it/s]<ipython-input-15-926e783b21b8>:33: FutureWarning: Pass size=132300 as keyword args. From version 0.10 passing these as positional arguments will result in an error\n",
      "  padded_data = lb.util.pad_center(pureSample, reqLen)\n"
     ]
    },
    {
     "name": "stderr",
     "output_type": "stream",
     "text": [
      "170it [00:39,  4.47it/s]<ipython-input-15-926e783b21b8>:33: FutureWarning: Pass size=132300 as keyword args. From version 0.10 passing these as positional arguments will result in an error\n",
      "  padded_data = lb.util.pad_center(pureSample, reqLen)\n",
      "171it [00:39,  4.54it/s]<ipython-input-15-926e783b21b8>:33: FutureWarning: Pass size=132300 as keyword args. From version 0.10 passing these as positional arguments will result in an error\n",
      "  padded_data = lb.util.pad_center(pureSample, reqLen)\n",
      "172it [00:39,  4.53it/s]<ipython-input-15-926e783b21b8>:33: FutureWarning: Pass size=132300 as keyword args. From version 0.10 passing these as positional arguments will result in an error\n",
      "  padded_data = lb.util.pad_center(pureSample, reqLen)\n",
      "173it [00:40,  4.53it/s]<ipython-input-15-926e783b21b8>:33: FutureWarning: Pass size=132300 as keyword args. From version 0.10 passing these as positional arguments will result in an error\n",
      "  padded_data = lb.util.pad_center(pureSample, reqLen)\n",
      "174it [00:40,  4.49it/s]<ipython-input-15-926e783b21b8>:33: FutureWarning: Pass size=132300 as keyword args. From version 0.10 passing these as positional arguments will result in an error\n",
      "  padded_data = lb.util.pad_center(pureSample, reqLen)\n",
      "175it [00:40,  4.34it/s]<ipython-input-15-926e783b21b8>:33: FutureWarning: Pass size=132300 as keyword args. From version 0.10 passing these as positional arguments will result in an error\n",
      "  padded_data = lb.util.pad_center(pureSample, reqLen)\n",
      "176it [00:40,  4.36it/s]<ipython-input-15-926e783b21b8>:33: FutureWarning: Pass size=132300 as keyword args. From version 0.10 passing these as positional arguments will result in an error\n",
      "  padded_data = lb.util.pad_center(pureSample, reqLen)\n",
      "177it [00:40,  4.42it/s]<ipython-input-15-926e783b21b8>:33: FutureWarning: Pass size=132300 as keyword args. From version 0.10 passing these as positional arguments will result in an error\n",
      "  padded_data = lb.util.pad_center(pureSample, reqLen)\n",
      "178it [00:41,  4.45it/s]<ipython-input-15-926e783b21b8>:33: FutureWarning: Pass size=132300 as keyword args. From version 0.10 passing these as positional arguments will result in an error\n",
      "  padded_data = lb.util.pad_center(pureSample, reqLen)\n",
      "179it [00:41,  4.48it/s]<ipython-input-15-926e783b21b8>:33: FutureWarning: Pass size=132300 as keyword args. From version 0.10 passing these as positional arguments will result in an error\n",
      "  padded_data = lb.util.pad_center(pureSample, reqLen)\n",
      "180it [00:41,  4.51it/s]<ipython-input-15-926e783b21b8>:33: FutureWarning: Pass size=132300 as keyword args. From version 0.10 passing these as positional arguments will result in an error\n",
      "  padded_data = lb.util.pad_center(pureSample, reqLen)\n",
      "181it [00:41,  4.54it/s]<ipython-input-15-926e783b21b8>:33: FutureWarning: Pass size=132300 as keyword args. From version 0.10 passing these as positional arguments will result in an error\n",
      "  padded_data = lb.util.pad_center(pureSample, reqLen)\n",
      "182it [00:42,  4.53it/s]<ipython-input-15-926e783b21b8>:33: FutureWarning: Pass size=132300 as keyword args. From version 0.10 passing these as positional arguments will result in an error\n",
      "  padded_data = lb.util.pad_center(pureSample, reqLen)\n",
      "183it [00:42,  4.48it/s]<ipython-input-15-926e783b21b8>:33: FutureWarning: Pass size=132300 as keyword args. From version 0.10 passing these as positional arguments will result in an error\n",
      "  padded_data = lb.util.pad_center(pureSample, reqLen)\n",
      "184it [00:42,  4.50it/s]<ipython-input-15-926e783b21b8>:33: FutureWarning: Pass size=132300 as keyword args. From version 0.10 passing these as positional arguments will result in an error\n",
      "  padded_data = lb.util.pad_center(pureSample, reqLen)\n",
      "185it [00:42,  4.53it/s]<ipython-input-15-926e783b21b8>:33: FutureWarning: Pass size=132300 as keyword args. From version 0.10 passing these as positional arguments will result in an error\n",
      "  padded_data = lb.util.pad_center(pureSample, reqLen)\n",
      "186it [00:42,  4.49it/s]<ipython-input-15-926e783b21b8>:33: FutureWarning: Pass size=132300 as keyword args. From version 0.10 passing these as positional arguments will result in an error\n",
      "  padded_data = lb.util.pad_center(pureSample, reqLen)\n",
      "187it [00:43,  4.42it/s]<ipython-input-15-926e783b21b8>:33: FutureWarning: Pass size=132300 as keyword args. From version 0.10 passing these as positional arguments will result in an error\n",
      "  padded_data = lb.util.pad_center(pureSample, reqLen)\n",
      "188it [00:43,  4.48it/s]<ipython-input-15-926e783b21b8>:33: FutureWarning: Pass size=132300 as keyword args. From version 0.10 passing these as positional arguments will result in an error\n",
      "  padded_data = lb.util.pad_center(pureSample, reqLen)\n",
      "189it [00:43,  4.53it/s]<ipython-input-15-926e783b21b8>:33: FutureWarning: Pass size=132300 as keyword args. From version 0.10 passing these as positional arguments will result in an error\n",
      "  padded_data = lb.util.pad_center(pureSample, reqLen)\n",
      "190it [00:43,  4.55it/s]<ipython-input-15-926e783b21b8>:33: FutureWarning: Pass size=132300 as keyword args. From version 0.10 passing these as positional arguments will result in an error\n",
      "  padded_data = lb.util.pad_center(pureSample, reqLen)\n",
      "191it [00:44,  4.56it/s]<ipython-input-15-926e783b21b8>:33: FutureWarning: Pass size=132300 as keyword args. From version 0.10 passing these as positional arguments will result in an error\n",
      "  padded_data = lb.util.pad_center(pureSample, reqLen)\n",
      "192it [00:44,  4.54it/s]<ipython-input-15-926e783b21b8>:33: FutureWarning: Pass size=132300 as keyword args. From version 0.10 passing these as positional arguments will result in an error\n",
      "  padded_data = lb.util.pad_center(pureSample, reqLen)\n",
      "193it [00:44,  4.53it/s]<ipython-input-15-926e783b21b8>:33: FutureWarning: Pass size=132300 as keyword args. From version 0.10 passing these as positional arguments will result in an error\n",
      "  padded_data = lb.util.pad_center(pureSample, reqLen)\n",
      "194it [00:44,  4.57it/s]<ipython-input-15-926e783b21b8>:33: FutureWarning: Pass size=132300 as keyword args. From version 0.10 passing these as positional arguments will result in an error\n",
      "  padded_data = lb.util.pad_center(pureSample, reqLen)\n",
      "195it [00:44,  4.57it/s]<ipython-input-15-926e783b21b8>:33: FutureWarning: Pass size=132300 as keyword args. From version 0.10 passing these as positional arguments will result in an error\n",
      "  padded_data = lb.util.pad_center(pureSample, reqLen)\n",
      "196it [00:45,  4.58it/s]<ipython-input-15-926e783b21b8>:33: FutureWarning: Pass size=132300 as keyword args. From version 0.10 passing these as positional arguments will result in an error\n",
      "  padded_data = lb.util.pad_center(pureSample, reqLen)\n",
      "197it [00:45,  4.57it/s]<ipython-input-15-926e783b21b8>:33: FutureWarning: Pass size=132300 as keyword args. From version 0.10 passing these as positional arguments will result in an error\n",
      "  padded_data = lb.util.pad_center(pureSample, reqLen)\n",
      "198it [00:45,  4.35it/s]<ipython-input-15-926e783b21b8>:33: FutureWarning: Pass size=132300 as keyword args. From version 0.10 passing these as positional arguments will result in an error\n",
      "  padded_data = lb.util.pad_center(pureSample, reqLen)\n",
      "199it [00:45,  4.29it/s]<ipython-input-15-926e783b21b8>:33: FutureWarning: Pass size=132300 as keyword args. From version 0.10 passing these as positional arguments will result in an error\n",
      "  padded_data = lb.util.pad_center(pureSample, reqLen)\n",
      "200it [00:46,  4.31it/s]<ipython-input-15-926e783b21b8>:33: FutureWarning: Pass size=132300 as keyword args. From version 0.10 passing these as positional arguments will result in an error\n",
      "  padded_data = lb.util.pad_center(pureSample, reqLen)\n",
      "201it [00:46,  4.30it/s]<ipython-input-15-926e783b21b8>:33: FutureWarning: Pass size=132300 as keyword args. From version 0.10 passing these as positional arguments will result in an error\n",
      "  padded_data = lb.util.pad_center(pureSample, reqLen)\n",
      "202it [00:46,  4.38it/s]<ipython-input-15-926e783b21b8>:33: FutureWarning: Pass size=132300 as keyword args. From version 0.10 passing these as positional arguments will result in an error\n",
      "  padded_data = lb.util.pad_center(pureSample, reqLen)\n",
      "203it [00:46,  4.49it/s]<ipython-input-15-926e783b21b8>:33: FutureWarning: Pass size=132300 as keyword args. From version 0.10 passing these as positional arguments will result in an error\n",
      "  padded_data = lb.util.pad_center(pureSample, reqLen)\n"
     ]
    },
    {
     "name": "stderr",
     "output_type": "stream",
     "text": [
      "204it [00:46,  4.52it/s]<ipython-input-15-926e783b21b8>:33: FutureWarning: Pass size=132300 as keyword args. From version 0.10 passing these as positional arguments will result in an error\n",
      "  padded_data = lb.util.pad_center(pureSample, reqLen)\n",
      "\r",
      "205it [00:47,  4.55it/s]"
     ]
    }
   ],
   "source": [
    "import librosa as lb\n",
    "import soundfile as sf\n",
    "from tqdm import tqdm\n",
    "i,c=0,0\n",
    "for index,row in tqdm(data.iterrows()):\n",
    "    maxLen=6\n",
    "    start=row['start']\n",
    "    end=row['end']\n",
    "    filename=row['filename']\n",
    "    \n",
    "    #If len > maxLen , change it to maxLen\n",
    "    if end-start>maxLen:\n",
    "        end=start+maxLen\n",
    "    \n",
    "    audio_file_loc=path + filename + '.wav'\n",
    "    \n",
    "    if index > 0:\n",
    "        #check if more cycles exits for same patient if so then add i to change filename\n",
    "        if data.iloc[index-1]['filename']==filename:\n",
    "            i+=1\n",
    "        else:\n",
    "            i=0\n",
    "    filename= filename + '_' + str(i) + '.wav'\n",
    "    \n",
    "    save_path='processed_audio_files/' + filename\n",
    "    c+=1\n",
    "    \n",
    "    audioArr,sampleRate=lb.load(audio_file_loc)\n",
    "    pureSample=getPureSample(audioArr,start,end,sampleRate)\n",
    "    \n",
    "    #pad audio if pureSample len < max_len\n",
    "    reqLen=6*sampleRate\n",
    "    padded_data = lb.util.pad_center(pureSample, reqLen)\n",
    "    \n",
    "    sf.write(file=save_path,data=padded_data,samplerate=sampleRate)\n",
    "print('Total Files Processed: ',c)"
   ]
  },
  {
   "cell_type": "code",
   "execution_count": null,
   "metadata": {},
   "outputs": [],
   "source": [
    "diagnosis=pd.read_csv('./Respiratory_Sound_Database/patient_diagnosis.csv',names=['pid','disease'])\n",
    "diagnosis.head()"
   ]
  },
  {
   "cell_type": "code",
   "execution_count": null,
   "metadata": {},
   "outputs": [],
   "source": [
    "sns.countplot(diagnosis.disease)\n",
    "plt.xticks(rotation=90)"
   ]
  },
  {
   "cell_type": "code",
   "execution_count": null,
   "metadata": {},
   "outputs": [],
   "source": [
    "def extractId(filename):\n",
    "    return filename.split('_')[0]"
   ]
  },
  {
   "cell_type": "code",
   "execution_count": null,
   "metadata": {},
   "outputs": [],
   "source": [
    "path='./processed_audio_files/'\n",
    "length=len(os.listdir(path))\n",
    "index=range(length)\n",
    "i=0\n",
    "files_df=pd.DataFrame(index=index,columns=['pid','filename'])\n",
    "file_list = os.listdir(path)\n",
    "for f in tqdm(file_list):\n",
    "    files_df.iloc[i]['pid']=extractId(f)\n",
    "    files_df.iloc[i]['filename']=f\n",
    "    i+=1\n",
    "files_df.head()"
   ]
  },
  {
   "cell_type": "code",
   "execution_count": null,
   "metadata": {},
   "outputs": [],
   "source": [
    "files_df.pid=files_df.pid.astype('int64') # both pid's must be of same dtype for them to merge\n",
    "data=pd.merge(files_df,diagnosis,on='pid')\n",
    "data.head()"
   ]
  },
  {
   "cell_type": "code",
   "execution_count": null,
   "metadata": {},
   "outputs": [],
   "source": [
    "sns.countplot(data.disease)\n",
    "plt.xticks(rotation=90)"
   ]
  },
  {
   "cell_type": "code",
   "execution_count": null,
   "metadata": {},
   "outputs": [],
   "source": [
    "from sklearn.model_selection import train_test_split\n",
    "Xtrain,Xval,ytrain,yval=train_test_split(data,data.disease,stratify=data.disease,random_state=42,test_size=0.25)"
   ]
  },
  {
   "cell_type": "code",
   "execution_count": null,
   "metadata": {},
   "outputs": [],
   "source": [
    "Xtrain.disease.value_counts()/Xtrain.shape[0]"
   ]
  },
  {
   "cell_type": "code",
   "execution_count": null,
   "metadata": {},
   "outputs": [],
   "source": [
    "Xval.disease.value_counts()/Xval.shape[0]"
   ]
  },
  {
   "cell_type": "code",
   "execution_count": null,
   "metadata": {},
   "outputs": [],
   "source": [
    "path='./processed_audio_files/'\n",
    "\n",
    "import librosa.display\n",
    "file=path + Xtrain.iloc[193].filename \n",
    "sound,sample_rate=lb.load(file)\n",
    "mfccs = lb.feature.mfcc(y=sound, sr=sample_rate, n_mfcc=40)\n",
    "fig, ax = plt.subplots()\n",
    "img = librosa.display.specshow(mfccs, x_axis='time', ax=ax)\n",
    "fig.colorbar(img, ax=ax)\n",
    "ax.set(title='MFCC')"
   ]
  },
  {
   "cell_type": "code",
   "execution_count": null,
   "metadata": {},
   "outputs": [],
   "source": [
    "Xtrain.to_csv('train.csv')\n",
    "Xval.to_csv('val.csv')"
   ]
  },
  {
   "cell_type": "code",
   "execution_count": null,
   "metadata": {},
   "outputs": [],
   "source": [
    "\n",
    "import numpy as np # linear algebra\n",
    "import pandas as pd # data processing, CSV file I/O (e.g. pd.read_csv)\n",
    "import tensorflow as tf\n",
    "from tensorflow import keras\n",
    "import matplotlib.pyplot as plt\n",
    "import librosa.display as lbd"
   ]
  },
  {
   "cell_type": "code",
   "execution_count": null,
   "metadata": {},
   "outputs": [],
   "source": [
    "train=pd.read_csv('./train.csv')\n",
    "val=pd.read_csv('./val.csv')\n",
    "train.head()"
   ]
  },
  {
   "cell_type": "code",
   "execution_count": null,
   "metadata": {},
   "outputs": [],
   "source": [
    "ytrain=train.disease\n",
    "yval=val.disease\n",
    "yval"
   ]
  },
  {
   "cell_type": "code",
   "execution_count": null,
   "metadata": {},
   "outputs": [],
   "source": [
    "from sklearn.preprocessing import LabelEncoder\n",
    "le=LabelEncoder()\n",
    "ytrain=le.fit_transform(ytrain)\n",
    "yval=le.transform(yval)"
   ]
  },
  {
   "cell_type": "code",
   "execution_count": null,
   "metadata": {},
   "outputs": [],
   "source": [
    "def getFeatures(path):\n",
    "    soundArr,sample_rate=lb.load(path)\n",
    "    mfcc=lb.feature.mfcc(y=soundArr,sr=sample_rate)\n",
    "    cstft=lb.feature.chroma_stft(y=soundArr,sr=sample_rate)\n",
    "    mSpec=lb.feature.melspectrogram(y=soundArr,sr=sample_rate)\n",
    "\n",
    "    return mfcc,cstft,mSpec"
   ]
  },
  {
   "cell_type": "code",
   "execution_count": null,
   "metadata": {},
   "outputs": [],
   "source": [
    "import librosa as lb\n",
    "import soundfile as sf\n",
    "from tqdm import tqdm\n",
    "root='./processed_audio_files/'\n",
    "mfcc,cstft,mSpec=[],[],[]\n",
    "\n",
    "for idx,row in tqdm(val.iterrows()):\n",
    "    path=root + row['filename']\n",
    "    a,b,c=getFeatures(path)\n",
    "    mfcc.append(a)\n",
    "    cstft.append(b)\n",
    "    mSpec.append(c)\n",
    "    \n",
    "mfcc_val=np.array(mfcc)\n",
    "cstft_val=np.array(cstft)\n",
    "mSpec_val=np.array(mSpec)"
   ]
  },
  {
   "cell_type": "code",
   "execution_count": null,
   "metadata": {},
   "outputs": [],
   "source": [
    "root='./processed_audio_files/'\n",
    "mfcc,cstft,mSpec=[],[],[]\n",
    "\n",
    "for idx,row in tqdm(train.iterrows()):\n",
    "    path=root + row['filename']\n",
    "    a,b,c=getFeatures(path)\n",
    "    mfcc.append(a)\n",
    "    cstft.append(b)\n",
    "    mSpec.append(c)\n",
    "    # tone.append(d)\n",
    "    # specCen.append(e)\n",
    "    \n",
    "mfcc_train=np.array(mfcc)\n",
    "cstft_train=np.array(cstft)\n",
    "mSpec_train=np.array(mSpec)"
   ]
  },
  {
   "cell_type": "code",
   "execution_count": null,
   "metadata": {},
   "outputs": [],
   "source": [
    "my_callbacks = [\n",
    "    tf.keras.callbacks.EarlyStopping(patience=5),\n",
    "    tf.keras.callbacks.ReduceLROnPlateau(monitor='val_loss', factor=0.1,\n",
    "                              patience=3, min_lr=0.00001,mode='min')\n",
    "]"
   ]
  },
  {
   "cell_type": "code",
   "execution_count": null,
   "metadata": {},
   "outputs": [],
   "source": [
    "mfcc_input=keras.layers.Input(shape=(20,259,1),name=\"mfccInput\")\n",
    "x=tf.keras.layers.Conv2D(32,5,strides=(1,3),padding='same')(mfcc_input)\n",
    "x=tf.keras.layers.BatchNormalization()(x)\n",
    "x=tf.keras.layers.Activation(keras.activations.relu)(x)\n",
    "x=tf.keras.layers.MaxPooling2D(pool_size=2,padding='valid')(x)\n",
    "\n",
    "x=tf.keras.layers.Conv2D(64,3,strides=(1,2),padding='same')(x)\n",
    "x=tf.keras.layers.BatchNormalization()(x)\n",
    "x=tf.keras.layers.Activation(keras.activations.relu)(x)\n",
    "x=tf.keras.layers.MaxPooling2D(pool_size=2,padding='valid')(x)\n",
    "\n",
    "x=tf.keras.layers.Conv2D(96,2,padding='same')(x)\n",
    "x=tf.keras.layers.BatchNormalization()(x)\n",
    "x=tf.keras.layers.Activation(keras.activations.relu)(x)\n",
    "x=tf.keras.layers.MaxPooling2D(pool_size=2,padding='valid')(x)\n",
    "\n",
    "x=tf.keras.layers.Conv2D(128,2,padding='same')(x)\n",
    "x=tf.keras.layers.BatchNormalization()(x)\n",
    "x=tf.keras.layers.Activation(keras.activations.relu)(x)\n",
    "mfcc_output=tf.keras.layers.GlobalMaxPooling2D()(x)\n",
    "\n",
    "mfcc_model=tf.keras.Model(mfcc_input, mfcc_output, name=\"mfccModel\")"
   ]
  },
  {
   "cell_type": "code",
   "execution_count": null,
   "metadata": {},
   "outputs": [],
   "source": [
    "mfcc_model.summary()"
   ]
  },
  {
   "cell_type": "code",
   "execution_count": null,
   "metadata": {},
   "outputs": [],
   "source": [
    "croma_input=tf.keras.layers.Input(shape=(12,259,1),name=\"cromaInput\")\n",
    "x=tf.keras.layers.Conv2D(32,5,strides=(1,3),padding='same')(croma_input)\n",
    "x=tf.keras.layers.BatchNormalization()(x)\n",
    "x=tf.keras.layers.Activation(keras.activations.relu)(x)\n",
    "x=tf.keras.layers.MaxPooling2D(pool_size=2,padding='valid')(x)\n",
    "\n",
    "x=tf.keras.layers.Conv2D(64,3,strides=(1,2),padding='same')(x)\n",
    "x=tf.keras.layers.BatchNormalization()(x)\n",
    "x=tf.keras.layers.Activation(keras.activations.relu)(x)\n",
    "x=tf.keras.layers.MaxPooling2D(pool_size=2,padding='valid')(x)\n",
    "\n",
    "x=tf.keras.layers.Conv2D(128,2,padding='same')(x)\n",
    "x=tf.keras.layers.BatchNormalization()(x)\n",
    "x=tf.keras.layers.Activation(keras.activations.relu)(x)\n",
    "croma_output=tf.keras.layers.GlobalMaxPooling2D()(x)\n",
    "\n",
    "croma_model=tf.keras.Model(croma_input, croma_output, name=\"cromaModel\")"
   ]
  },
  {
   "cell_type": "code",
   "execution_count": null,
   "metadata": {},
   "outputs": [],
   "source": [
    "croma_model.summary()"
   ]
  },
  {
   "cell_type": "code",
   "execution_count": null,
   "metadata": {},
   "outputs": [],
   "source": [
    "mSpec_input=tf.keras.layers.Input(shape=(128,259,1),name=\"mSpecInput\")\n",
    "x=tf.keras.layers.Conv2D(32,5,strides=(2,3),padding='same')(mSpec_input)\n",
    "x=tf.keras.layers.BatchNormalization()(x)\n",
    "x=tf.keras.layers.Activation(keras.activations.relu)(x)\n",
    "x=tf.keras.layers.MaxPooling2D(pool_size=2,padding='valid')(x)\n",
    "\n",
    "x=tf.keras.layers.Conv2D(64,3,strides=(2,2),padding='same')(x)\n",
    "x=tf.keras.layers.BatchNormalization()(x)\n",
    "x=tf.keras.layers.Activation(keras.activations.relu)(x)\n",
    "x=tf.keras.layers.MaxPooling2D(pool_size=2,padding='valid')(x)\n",
    "\n",
    "x=tf.keras.layers.Conv2D(96,2,padding='same')(x)\n",
    "x=tf.keras.layers.BatchNormalization()(x)\n",
    "x=tf.keras.layers.Activation(keras.activations.relu)(x)\n",
    "x=tf.keras.layers.MaxPooling2D(pool_size=2,padding='valid')(x)\n",
    "\n",
    "x=tf.keras.layers.Conv2D(128,2,padding='same')(x)\n",
    "x=tf.keras.layers.BatchNormalization()(x)\n",
    "x=tf.keras.layers.Activation(keras.activations.relu)(x)\n",
    "mSpec_output=tf.keras.layers.GlobalMaxPooling2D()(x)\n",
    "\n",
    "mSpec_model=keras.Model(mSpec_input, mSpec_output, name=\"mSpecModel\")"
   ]
  },
  {
   "cell_type": "code",
   "execution_count": null,
   "metadata": {},
   "outputs": [],
   "source": [
    "mSpec_model.summary()"
   ]
  },
  {
   "cell_type": "code",
   "execution_count": null,
   "metadata": {},
   "outputs": [],
   "source": [
    "input_mfcc=tf.keras.layers.Input(shape=(20,259,1),name=\"mfcc\")\n",
    "mfcc=mfcc_model(input_mfcc)\n",
    "\n",
    "input_croma=tf.keras.layers.Input(shape=(12,259,1),name=\"croma\")\n",
    "croma=croma_model(input_croma)\n",
    "\n",
    "input_mSpec=tf.keras.layers.Input(shape=(128,259,1),name=\"mspec\")\n",
    "mSpec=mSpec_model(input_mSpec)\n",
    "\n",
    "\n",
    "concat=tf.keras.layers.concatenate([mfcc,croma,mSpec])\n",
    "hidden=tf.keras.layers.Dropout(0.2)(concat)\n",
    "hidden=tf.keras.layers.Dense(50,activation='relu')(concat)\n",
    "hidden=tf.keras.layers.Dropout(0.3)(hidden)\n",
    "hidden=tf.keras.layers.Dense(25,activation='relu')(hidden)\n",
    "hidden=tf.keras.layers.Dropout(0.3)(hidden)\n",
    "output=tf.keras.layers.Dense(8,activation='softmax')(hidden)\n",
    "\n",
    "net=tf.keras.Model([input_mfcc,input_croma,input_mSpec], output, name=\"Net\")"
   ]
  },
  {
   "cell_type": "code",
   "execution_count": null,
   "metadata": {},
   "outputs": [],
   "source": [
    "net.summary()"
   ]
  },
  {
   "cell_type": "code",
   "execution_count": null,
   "metadata": {},
   "outputs": [],
   "source": [
    "tf.keras.utils.plot_model(net, \"net.png\", show_shapes=True)"
   ]
  },
  {
   "cell_type": "code",
   "execution_count": null,
   "metadata": {},
   "outputs": [],
   "source": [
    "from keras import backend as K\n",
    "net.compile(loss='sparse_categorical_crossentropy', optimizer='nadam', metrics=['accuracy'])\n",
    "K.set_value(net.optimizer.learning_rate, 0.001)"
   ]
  },
  {
   "cell_type": "code",
   "execution_count": null,
   "metadata": {},
   "outputs": [],
   "source": [
    "history=net.fit(\n",
    "    {\"mfcc\":mfcc_train,\"croma\":cstft_train,\"mspec\":mSpec_train},\n",
    "    ytrain,\n",
    "    validation_data=({\"mfcc\":mfcc_val,\"croma\":cstft_val,\"mspec\":mSpec_val},yval),\n",
    "    epochs=100,verbose=1,\n",
    "    callbacks=my_callbacks\n",
    ")"
   ]
  },
  {
   "cell_type": "code",
   "execution_count": null,
   "metadata": {},
   "outputs": [],
   "source": [
    "pd.DataFrame(history.history).plot()\n",
    "plt.grid(True)\n",
    "plt.gca().set_ylim(-0.1,1.1)\n",
    "plt.show()"
   ]
  },
  {
   "cell_type": "code",
   "execution_count": null,
   "metadata": {},
   "outputs": [],
   "source": [
    "net.evaluate({\"mfcc\":mfcc_val,\"croma\":cstft_val,\"mspec\":mSpec_val},yval)"
   ]
  },
  {
   "cell_type": "code",
   "execution_count": null,
   "metadata": {},
   "outputs": [],
   "source": []
  }
 ],
 "metadata": {
  "kernelspec": {
   "display_name": "Python 3",
   "language": "python",
   "name": "python3"
  },
  "language_info": {
   "codemirror_mode": {
    "name": "ipython",
    "version": 3
   },
   "file_extension": ".py",
   "mimetype": "text/x-python",
   "name": "python",
   "nbconvert_exporter": "python",
   "pygments_lexer": "ipython3",
   "version": "3.8.10"
  },
  "vscode": {
   "interpreter": {
    "hash": "289bb7ee5def5b7727e73f51ded5c9f0e33a23545573d911e6ac4f931e80b576"
   }
  }
 },
 "nbformat": 4,
 "nbformat_minor": 2
}
